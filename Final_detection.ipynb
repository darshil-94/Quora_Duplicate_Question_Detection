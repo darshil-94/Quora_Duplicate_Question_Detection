{
 "cells": [
  {
   "cell_type": "code",
   "execution_count": 1,
   "id": "a8ae5dbb",
   "metadata": {},
   "outputs": [],
   "source": [
    "import pandas as pd\n",
    "import numpy as np\n",
    "import matplotlib.pyplot as plt\n",
    "import seaborn as sns\n",
    "\n",
    "import re\n",
    "from bs4 import BeautifulSoup\n",
    "\n",
    "import warnings\n",
    "warnings.filterwarnings('ignore')"
   ]
  },
  {
   "cell_type": "code",
   "execution_count": 2,
   "id": "214cae59",
   "metadata": {},
   "outputs": [],
   "source": [
    "df = pd.read_csv('quora.csv')"
   ]
  },
  {
   "cell_type": "code",
   "execution_count": 3,
   "id": "3b5e60ac",
   "metadata": {},
   "outputs": [],
   "source": [
    "df = df.sample(30000)"
   ]
  },
  {
   "cell_type": "code",
   "execution_count": 4,
   "id": "cb07e2fa",
   "metadata": {},
   "outputs": [
    {
     "data": {
      "text/html": [
       "<div>\n",
       "<style scoped>\n",
       "    .dataframe tbody tr th:only-of-type {\n",
       "        vertical-align: middle;\n",
       "    }\n",
       "\n",
       "    .dataframe tbody tr th {\n",
       "        vertical-align: top;\n",
       "    }\n",
       "\n",
       "    .dataframe thead th {\n",
       "        text-align: right;\n",
       "    }\n",
       "</style>\n",
       "<table border=\"1\" class=\"dataframe\">\n",
       "  <thead>\n",
       "    <tr style=\"text-align: right;\">\n",
       "      <th></th>\n",
       "      <th>Unnamed: 0</th>\n",
       "      <th>index</th>\n",
       "      <th>id</th>\n",
       "      <th>qid1</th>\n",
       "      <th>qid2</th>\n",
       "      <th>question1</th>\n",
       "      <th>question2</th>\n",
       "      <th>is_duplicate</th>\n",
       "    </tr>\n",
       "  </thead>\n",
       "  <tbody>\n",
       "    <tr>\n",
       "      <th>90863</th>\n",
       "      <td>90863</td>\n",
       "      <td>322458</td>\n",
       "      <td>322458</td>\n",
       "      <td>448269</td>\n",
       "      <td>359896</td>\n",
       "      <td>How do you know if you are bisexual or bicurious?</td>\n",
       "      <td>How do you know if you're bisexual or bicurious?</td>\n",
       "      <td>1</td>\n",
       "    </tr>\n",
       "    <tr>\n",
       "      <th>65994</th>\n",
       "      <td>65994</td>\n",
       "      <td>95389</td>\n",
       "      <td>95389</td>\n",
       "      <td>131182</td>\n",
       "      <td>159094</td>\n",
       "      <td>Why is Eunuch and Son of Bitch more worried th...</td>\n",
       "      <td>India: Why is that despite of Myanmar, Cambodi...</td>\n",
       "      <td>0</td>\n",
       "    </tr>\n",
       "    <tr>\n",
       "      <th>49790</th>\n",
       "      <td>49790</td>\n",
       "      <td>86180</td>\n",
       "      <td>86180</td>\n",
       "      <td>145376</td>\n",
       "      <td>145377</td>\n",
       "      <td>I had so many very big and tight pimples on my...</td>\n",
       "      <td>What happened to Ritchie Valen's family after ...</td>\n",
       "      <td>0</td>\n",
       "    </tr>\n",
       "    <tr>\n",
       "      <th>71726</th>\n",
       "      <td>71726</td>\n",
       "      <td>32727</td>\n",
       "      <td>32727</td>\n",
       "      <td>60209</td>\n",
       "      <td>60210</td>\n",
       "      <td>Is Donald Trump fit to be president?</td>\n",
       "      <td>Would Donald Trump be a good president?</td>\n",
       "      <td>1</td>\n",
       "    </tr>\n",
       "    <tr>\n",
       "      <th>5535</th>\n",
       "      <td>5535</td>\n",
       "      <td>210690</td>\n",
       "      <td>210690</td>\n",
       "      <td>315332</td>\n",
       "      <td>206784</td>\n",
       "      <td>How do you hack someone's Snapchat?</td>\n",
       "      <td>How can I hack my snapchat password?</td>\n",
       "      <td>1</td>\n",
       "    </tr>\n",
       "  </tbody>\n",
       "</table>\n",
       "</div>"
      ],
      "text/plain": [
       "       Unnamed: 0   index      id    qid1    qid2  \\\n",
       "90863       90863  322458  322458  448269  359896   \n",
       "65994       65994   95389   95389  131182  159094   \n",
       "49790       49790   86180   86180  145376  145377   \n",
       "71726       71726   32727   32727   60209   60210   \n",
       "5535         5535  210690  210690  315332  206784   \n",
       "\n",
       "                                               question1  \\\n",
       "90863  How do you know if you are bisexual or bicurious?   \n",
       "65994  Why is Eunuch and Son of Bitch more worried th...   \n",
       "49790  I had so many very big and tight pimples on my...   \n",
       "71726               Is Donald Trump fit to be president?   \n",
       "5535                 How do you hack someone's Snapchat?   \n",
       "\n",
       "                                               question2  is_duplicate  \n",
       "90863   How do you know if you're bisexual or bicurious?             1  \n",
       "65994  India: Why is that despite of Myanmar, Cambodi...             0  \n",
       "49790  What happened to Ritchie Valen's family after ...             0  \n",
       "71726            Would Donald Trump be a good president?             1  \n",
       "5535                How can I hack my snapchat password?             1  "
      ]
     },
     "execution_count": 4,
     "metadata": {},
     "output_type": "execute_result"
    }
   ],
   "source": [
    "df.head()"
   ]
  },
  {
   "cell_type": "code",
   "execution_count": 5,
   "id": "f935c041",
   "metadata": {},
   "outputs": [],
   "source": [
    "df = df.drop('Unnamed: 0',axis=1)"
   ]
  },
  {
   "cell_type": "code",
   "execution_count": 6,
   "id": "feb328fc",
   "metadata": {},
   "outputs": [
    {
     "data": {
      "text/plain": [
       "(30000, 7)"
      ]
     },
     "execution_count": 6,
     "metadata": {},
     "output_type": "execute_result"
    }
   ],
   "source": [
    "df.shape"
   ]
  },
  {
   "cell_type": "code",
   "execution_count": 7,
   "id": "5b34cfe5",
   "metadata": {},
   "outputs": [],
   "source": [
    "df = df.drop('index',axis=1)"
   ]
  },
  {
   "cell_type": "code",
   "execution_count": 8,
   "id": "36b35973",
   "metadata": {},
   "outputs": [
    {
     "data": {
      "text/html": [
       "<div>\n",
       "<style scoped>\n",
       "    .dataframe tbody tr th:only-of-type {\n",
       "        vertical-align: middle;\n",
       "    }\n",
       "\n",
       "    .dataframe tbody tr th {\n",
       "        vertical-align: top;\n",
       "    }\n",
       "\n",
       "    .dataframe thead th {\n",
       "        text-align: right;\n",
       "    }\n",
       "</style>\n",
       "<table border=\"1\" class=\"dataframe\">\n",
       "  <thead>\n",
       "    <tr style=\"text-align: right;\">\n",
       "      <th></th>\n",
       "      <th>id</th>\n",
       "      <th>qid1</th>\n",
       "      <th>qid2</th>\n",
       "      <th>question1</th>\n",
       "      <th>question2</th>\n",
       "      <th>is_duplicate</th>\n",
       "    </tr>\n",
       "  </thead>\n",
       "  <tbody>\n",
       "    <tr>\n",
       "      <th>90863</th>\n",
       "      <td>322458</td>\n",
       "      <td>448269</td>\n",
       "      <td>359896</td>\n",
       "      <td>How do you know if you are bisexual or bicurious?</td>\n",
       "      <td>How do you know if you're bisexual or bicurious?</td>\n",
       "      <td>1</td>\n",
       "    </tr>\n",
       "    <tr>\n",
       "      <th>65994</th>\n",
       "      <td>95389</td>\n",
       "      <td>131182</td>\n",
       "      <td>159094</td>\n",
       "      <td>Why is Eunuch and Son of Bitch more worried th...</td>\n",
       "      <td>India: Why is that despite of Myanmar, Cambodi...</td>\n",
       "      <td>0</td>\n",
       "    </tr>\n",
       "    <tr>\n",
       "      <th>49790</th>\n",
       "      <td>86180</td>\n",
       "      <td>145376</td>\n",
       "      <td>145377</td>\n",
       "      <td>I had so many very big and tight pimples on my...</td>\n",
       "      <td>What happened to Ritchie Valen's family after ...</td>\n",
       "      <td>0</td>\n",
       "    </tr>\n",
       "    <tr>\n",
       "      <th>71726</th>\n",
       "      <td>32727</td>\n",
       "      <td>60209</td>\n",
       "      <td>60210</td>\n",
       "      <td>Is Donald Trump fit to be president?</td>\n",
       "      <td>Would Donald Trump be a good president?</td>\n",
       "      <td>1</td>\n",
       "    </tr>\n",
       "    <tr>\n",
       "      <th>5535</th>\n",
       "      <td>210690</td>\n",
       "      <td>315332</td>\n",
       "      <td>206784</td>\n",
       "      <td>How do you hack someone's Snapchat?</td>\n",
       "      <td>How can I hack my snapchat password?</td>\n",
       "      <td>1</td>\n",
       "    </tr>\n",
       "  </tbody>\n",
       "</table>\n",
       "</div>"
      ],
      "text/plain": [
       "           id    qid1    qid2  \\\n",
       "90863  322458  448269  359896   \n",
       "65994   95389  131182  159094   \n",
       "49790   86180  145376  145377   \n",
       "71726   32727   60209   60210   \n",
       "5535   210690  315332  206784   \n",
       "\n",
       "                                               question1  \\\n",
       "90863  How do you know if you are bisexual or bicurious?   \n",
       "65994  Why is Eunuch and Son of Bitch more worried th...   \n",
       "49790  I had so many very big and tight pimples on my...   \n",
       "71726               Is Donald Trump fit to be president?   \n",
       "5535                 How do you hack someone's Snapchat?   \n",
       "\n",
       "                                               question2  is_duplicate  \n",
       "90863   How do you know if you're bisexual or bicurious?             1  \n",
       "65994  India: Why is that despite of Myanmar, Cambodi...             0  \n",
       "49790  What happened to Ritchie Valen's family after ...             0  \n",
       "71726            Would Donald Trump be a good president?             1  \n",
       "5535                How can I hack my snapchat password?             1  "
      ]
     },
     "execution_count": 8,
     "metadata": {},
     "output_type": "execute_result"
    }
   ],
   "source": [
    "df.head()"
   ]
  },
  {
   "cell_type": "code",
   "execution_count": 9,
   "id": "da43bba3",
   "metadata": {},
   "outputs": [],
   "source": [
    "def preprocess(q):\n",
    "    \n",
    "    q = str(q).lower().strip()\n",
    "    \n",
    "    q = q.replace('$','Dollar')\n",
    "    q = q.replace(\"%\",\"Percent\")\n",
    "    q = q.replace(\"₹\",\"Rupee\")\n",
    "    q = q.replace(\"€\",\"euro\")\n",
    "    q = q.replace(\"@\",\"at\")\n",
    "    \n",
    "    q = q.replace(\"[math]\",\"\")\n",
    "    \n",
    "    q = q.replace(\",000,000,000\",\"b\")\n",
    "    q = q.replace(\",000,000\",\"m\")\n",
    "    q = q.replace(\",000\",\"k\")\n",
    "    q = re.sub(r'([0-9]+)000000000',r\"\\1b\",q)\n",
    "    q = re.sub(r'([0-9]+)000000',r\"\\1m\",q)\n",
    "    q = re.sub(r'([0-9]+)000',r\"\\1k\",q)\n",
    "    \n",
    "    contractions = { \n",
    "                    \"ain't\": \"am not\",\n",
    "                    \"aren't\": \"are not\",\n",
    "                    \"can't\": \"cannot\",\n",
    "                    \"can't've\": \"cannot have\",\n",
    "                    \"'cause\": \"because\",\n",
    "                    \"could've\": \"could have\",\n",
    "                    \"couldn't\": \"could not\",\n",
    "                    \"couldn't've\": \"could not have\",\n",
    "                    \"didn't\": \"did not\",\n",
    "                    \"doesn't\": \"does not\",\n",
    "                    \"don't\": \"do not\",\n",
    "                    \"hadn't\": \"had not\",\n",
    "                    \"hadn't've\": \"had not have\",\n",
    "                    \"hasn't\": \"has not\",\n",
    "                    \"haven't\": \"have not\",\n",
    "                    \"he'd\": \"he had\",\n",
    "                    \"he'd've\": \"he would have\",\n",
    "                    \"he'll\": \"he shall\",\n",
    "                    \"he'll've\": \"he shall have\",\n",
    "                    \"he's\": \"he has\",\n",
    "                    \"how'd\": \"how did\",\n",
    "                    \"how'd'y\": \"how do you\",\n",
    "                    \"how'll\": \"how will\",\n",
    "                    \"how's\": \"how has\",\n",
    "                    \"I'd\": \"I had\",\n",
    "                    \"I'd've\": \"I would have\",\n",
    "                    \"I'll\": \"I shall\",\n",
    "                    \"I'll've\": \"I shall have\",\n",
    "                    \"I'm\": \"I am\",\n",
    "                    \"I've\": \"I  have\",\n",
    "                    \"isn't\": \"is not\",\n",
    "                    \"it'd\": \"it had\",\n",
    "                    \"it'd've\": \"it would have\",\n",
    "                    \"it'll\": \"it shall\",\n",
    "                    \"it'll've\": \"it shall have\",\n",
    "                    \"it's\": \"it has\",\n",
    "                    \"let's\": \"let us\",\n",
    "                    \"ma'am\": \"madam\",\n",
    "                    \"mayn't\": \"may not\",\n",
    "                    \"might've\": \"might have\",\n",
    "                    \"mightn't\": \"might not\",\n",
    "                    \"mightn't've\": \"might not have\",\n",
    "                    \"must've\": \"must have\",\n",
    "                    \"mustn't\": \"must not\",\n",
    "                    \"mustn't've\": \"must not have\",\n",
    "                    \"needn't\": \"need not\",\n",
    "                    \"needn't've\": \"need not have\",\n",
    "                    \"o'clock\": \"of the clock\",\n",
    "                    \"oughtn't\": \"ought not\",\n",
    "                    \"oughtn't've\": \"ought not have\",\n",
    "                    \"shan't\": \"shall not\",\n",
    "                    \"sha'n't\": \"shall not\",\n",
    "                    \"shan't've\": \"shall not have\",\n",
    "                    \"she'd\": \"she had\",\n",
    "                    \"she'd've\": \"she would have\",\n",
    "                    \"she'll\": \"she shall\",\n",
    "                    \"she'll've\": \"she shall have\",\n",
    "                    \"she's\": \"she has\",\n",
    "                    \"should've\": \"should have\",\n",
    "                    \"shouldn't\": \"should not\",\n",
    "                    \"shouldn't've\": \"should not have\",\n",
    "                    \"so've\": \"so have\",\n",
    "                    \"so's\": \"so as\",\n",
    "                    \"that'd\": \"that would\",\n",
    "                    \"that'd've\": \"that would have\",\n",
    "                    \"that's\": \"that has\",\n",
    "                    \"there'd\": \"there had\",\n",
    "                    \"there'd've\": \"there would have\",\n",
    "                    \"there's\": \"there has\",\n",
    "                    \"they'd\": \"they had\",\n",
    "                    \"they'd've\": \"they would have\",\n",
    "                    \"they'll\": \"they shall\",\n",
    "                    \"they'll've\": \"they shall have\",\n",
    "                    \"they're\": \"they are\",\n",
    "                    \"they've\": \"they have\",\n",
    "                    \"to've\": \"to have\",\n",
    "                    \"wasn't\": \"was not\",\n",
    "                    \"we'd\": \"we had\",\n",
    "                    \"we'd've\": \"we would have\",\n",
    "                    \"we'll\": \"we will\",\n",
    "                    \"we'll've\": \"we will have\",\n",
    "                    \"we're\": \"we are\",\n",
    "                    \"we've\": \"we have\",\n",
    "                    \"weren't\": \"were not\",\n",
    "                    \"what'll\": \"what shall\",\n",
    "                    \"what'll've\": \"what shall have\",\n",
    "                    \"what're\": \"what are\",\n",
    "                    \"what's\": \"what has\",\n",
    "                    \"what've\": \"what have\",\n",
    "                    \"when's\": \"when has\",\n",
    "                    \"when've\": \"when have\",\n",
    "                    \"where'd\": \"where did\",\n",
    "                    \"where's\": \"where has\",\n",
    "                    \"where've\": \"where have\",\n",
    "                    \"who'll\": \"who shall\",\n",
    "                    \"who'll've\": \"who shall have\",\n",
    "                    \"who's\": \"who has\",\n",
    "                    \"who've\": \"who have\",\n",
    "                    \"why's\": \"why has\",\n",
    "                    \"why've\": \"why have\",\n",
    "                    \"will've\": \"will have\",\n",
    "                    \"won't\": \"will not\",\n",
    "                    \"won't've\": \"will not have\",\n",
    "                    \"would've\": \"would have\",\n",
    "                    \"wouldn't\": \"would not\",\n",
    "                    \"wouldn't've\": \"would not have\",\n",
    "                    \"y'all\": \"you all\",\n",
    "                    \"y'all'd\": \"you all would\",\n",
    "                    \"y'all'd've\": \"you all would have\",\n",
    "                    \"y'all're\": \"you all are\",\n",
    "                    \"y'all've\": \"you all have\",\n",
    "                    \"you'd\": \"you had\",\n",
    "                    \"you'd've\": \"you would have\",\n",
    "                    \"you'll\": \"you shall\",\n",
    "                    \"you'll've\": \"you shall have\",\n",
    "                    \"you're\": \"you are\",\n",
    "                    \"you've\": \"you have\"\n",
    "                    }\n",
    "    \n",
    "    q_decontracted = []\n",
    "    \n",
    "    for word in q.split():\n",
    "        if word in contractions:\n",
    "            word = contractions[word]\n",
    "            \n",
    "        q_decontracted.append(word)\n",
    "    \n",
    "    q = ' '.join(q_decontracted)\n",
    "    q = q.replace(\"'ve\",\"have\")\n",
    "    q = q.replace(\"n't\",\"not\")\n",
    "    q = q.replace(\"'re\",\"are\")\n",
    "    q = q.replace(\"'ll\",\"will\")\n",
    "    \n",
    "    q = BeautifulSoup(q)\n",
    "    q = q.get_text()\n",
    "    \n",
    "    \n",
    "    pattern = re.compile('\\W')\n",
    "    q = re.sub(pattern,' ',q).strip()\n",
    "    \n",
    "    return q"
   ]
  },
  {
   "cell_type": "code",
   "execution_count": 10,
   "id": "cb1c4f34",
   "metadata": {},
   "outputs": [
    {
     "data": {
      "text/plain": [
       "'ihave already  was not done'"
      ]
     },
     "execution_count": 10,
     "metadata": {},
     "output_type": "execute_result"
    }
   ],
   "source": [
    "preprocess(\"I've already! wasn't <b>done</b>\" )"
   ]
  },
  {
   "cell_type": "code",
   "execution_count": 11,
   "id": "46328024",
   "metadata": {},
   "outputs": [],
   "source": [
    "df['question1'] = df['question1'].apply(preprocess)\n",
    "df['question2'] = df['question2'].apply(preprocess)"
   ]
  },
  {
   "cell_type": "code",
   "execution_count": 12,
   "id": "35036a81",
   "metadata": {},
   "outputs": [
    {
     "data": {
      "text/html": [
       "<div>\n",
       "<style scoped>\n",
       "    .dataframe tbody tr th:only-of-type {\n",
       "        vertical-align: middle;\n",
       "    }\n",
       "\n",
       "    .dataframe tbody tr th {\n",
       "        vertical-align: top;\n",
       "    }\n",
       "\n",
       "    .dataframe thead th {\n",
       "        text-align: right;\n",
       "    }\n",
       "</style>\n",
       "<table border=\"1\" class=\"dataframe\">\n",
       "  <thead>\n",
       "    <tr style=\"text-align: right;\">\n",
       "      <th></th>\n",
       "      <th>id</th>\n",
       "      <th>qid1</th>\n",
       "      <th>qid2</th>\n",
       "      <th>question1</th>\n",
       "      <th>question2</th>\n",
       "      <th>is_duplicate</th>\n",
       "    </tr>\n",
       "  </thead>\n",
       "  <tbody>\n",
       "    <tr>\n",
       "      <th>90863</th>\n",
       "      <td>322458</td>\n",
       "      <td>448269</td>\n",
       "      <td>359896</td>\n",
       "      <td>how do you know if you are bisexual or bicurious</td>\n",
       "      <td>how do you know if you are bisexual or bicurious</td>\n",
       "      <td>1</td>\n",
       "    </tr>\n",
       "    <tr>\n",
       "      <th>65994</th>\n",
       "      <td>95389</td>\n",
       "      <td>131182</td>\n",
       "      <td>159094</td>\n",
       "      <td>why is eunuch and son of bitch more worried th...</td>\n",
       "      <td>india  why is that despite of myanmar  cambodi...</td>\n",
       "      <td>0</td>\n",
       "    </tr>\n",
       "    <tr>\n",
       "      <th>49790</th>\n",
       "      <td>86180</td>\n",
       "      <td>145376</td>\n",
       "      <td>145377</td>\n",
       "      <td>i had so many very big and tight pimples on my...</td>\n",
       "      <td>what happened to ritchie valen s family after ...</td>\n",
       "      <td>0</td>\n",
       "    </tr>\n",
       "    <tr>\n",
       "      <th>71726</th>\n",
       "      <td>32727</td>\n",
       "      <td>60209</td>\n",
       "      <td>60210</td>\n",
       "      <td>is donald trump fit to be president</td>\n",
       "      <td>would donald trump be a good president</td>\n",
       "      <td>1</td>\n",
       "    </tr>\n",
       "    <tr>\n",
       "      <th>5535</th>\n",
       "      <td>210690</td>\n",
       "      <td>315332</td>\n",
       "      <td>206784</td>\n",
       "      <td>how do you hack someone s snapchat</td>\n",
       "      <td>how can i hack my snapchat password</td>\n",
       "      <td>1</td>\n",
       "    </tr>\n",
       "  </tbody>\n",
       "</table>\n",
       "</div>"
      ],
      "text/plain": [
       "           id    qid1    qid2  \\\n",
       "90863  322458  448269  359896   \n",
       "65994   95389  131182  159094   \n",
       "49790   86180  145376  145377   \n",
       "71726   32727   60209   60210   \n",
       "5535   210690  315332  206784   \n",
       "\n",
       "                                               question1  \\\n",
       "90863   how do you know if you are bisexual or bicurious   \n",
       "65994  why is eunuch and son of bitch more worried th...   \n",
       "49790  i had so many very big and tight pimples on my...   \n",
       "71726                is donald trump fit to be president   \n",
       "5535                  how do you hack someone s snapchat   \n",
       "\n",
       "                                               question2  is_duplicate  \n",
       "90863   how do you know if you are bisexual or bicurious             1  \n",
       "65994  india  why is that despite of myanmar  cambodi...             0  \n",
       "49790  what happened to ritchie valen s family after ...             0  \n",
       "71726             would donald trump be a good president             1  \n",
       "5535                 how can i hack my snapchat password             1  "
      ]
     },
     "execution_count": 12,
     "metadata": {},
     "output_type": "execute_result"
    }
   ],
   "source": [
    "df.head()"
   ]
  },
  {
   "cell_type": "code",
   "execution_count": 13,
   "id": "e6392421",
   "metadata": {},
   "outputs": [],
   "source": [
    "df['q1_len'] = df['question1'].str.len()\n",
    "df['q2_len'] = df['question2'].str.len()"
   ]
  },
  {
   "cell_type": "code",
   "execution_count": 14,
   "id": "977d5692",
   "metadata": {},
   "outputs": [],
   "source": [
    "df['q1_num_word'] = df['question1'].apply(lambda row: len(row.split(\" \")))\n",
    "df['q2_num_word'] = df['question2'].apply(lambda row: len(row.split(\" \")))"
   ]
  },
  {
   "cell_type": "code",
   "execution_count": 15,
   "id": "121ccbd1",
   "metadata": {},
   "outputs": [
    {
     "data": {
      "text/html": [
       "<div>\n",
       "<style scoped>\n",
       "    .dataframe tbody tr th:only-of-type {\n",
       "        vertical-align: middle;\n",
       "    }\n",
       "\n",
       "    .dataframe tbody tr th {\n",
       "        vertical-align: top;\n",
       "    }\n",
       "\n",
       "    .dataframe thead th {\n",
       "        text-align: right;\n",
       "    }\n",
       "</style>\n",
       "<table border=\"1\" class=\"dataframe\">\n",
       "  <thead>\n",
       "    <tr style=\"text-align: right;\">\n",
       "      <th></th>\n",
       "      <th>id</th>\n",
       "      <th>qid1</th>\n",
       "      <th>qid2</th>\n",
       "      <th>question1</th>\n",
       "      <th>question2</th>\n",
       "      <th>is_duplicate</th>\n",
       "      <th>q1_len</th>\n",
       "      <th>q2_len</th>\n",
       "      <th>q1_num_word</th>\n",
       "      <th>q2_num_word</th>\n",
       "    </tr>\n",
       "  </thead>\n",
       "  <tbody>\n",
       "    <tr>\n",
       "      <th>90863</th>\n",
       "      <td>322458</td>\n",
       "      <td>448269</td>\n",
       "      <td>359896</td>\n",
       "      <td>how do you know if you are bisexual or bicurious</td>\n",
       "      <td>how do you know if you are bisexual or bicurious</td>\n",
       "      <td>1</td>\n",
       "      <td>48</td>\n",
       "      <td>48</td>\n",
       "      <td>10</td>\n",
       "      <td>10</td>\n",
       "    </tr>\n",
       "    <tr>\n",
       "      <th>65994</th>\n",
       "      <td>95389</td>\n",
       "      <td>131182</td>\n",
       "      <td>159094</td>\n",
       "      <td>why is eunuch and son of bitch more worried th...</td>\n",
       "      <td>india  why is that despite of myanmar  cambodi...</td>\n",
       "      <td>0</td>\n",
       "      <td>81</td>\n",
       "      <td>148</td>\n",
       "      <td>16</td>\n",
       "      <td>32</td>\n",
       "    </tr>\n",
       "    <tr>\n",
       "      <th>49790</th>\n",
       "      <td>86180</td>\n",
       "      <td>145376</td>\n",
       "      <td>145377</td>\n",
       "      <td>i had so many very big and tight pimples on my...</td>\n",
       "      <td>what happened to ritchie valen s family after ...</td>\n",
       "      <td>0</td>\n",
       "      <td>148</td>\n",
       "      <td>58</td>\n",
       "      <td>32</td>\n",
       "      <td>10</td>\n",
       "    </tr>\n",
       "    <tr>\n",
       "      <th>71726</th>\n",
       "      <td>32727</td>\n",
       "      <td>60209</td>\n",
       "      <td>60210</td>\n",
       "      <td>is donald trump fit to be president</td>\n",
       "      <td>would donald trump be a good president</td>\n",
       "      <td>1</td>\n",
       "      <td>35</td>\n",
       "      <td>38</td>\n",
       "      <td>7</td>\n",
       "      <td>7</td>\n",
       "    </tr>\n",
       "    <tr>\n",
       "      <th>5535</th>\n",
       "      <td>210690</td>\n",
       "      <td>315332</td>\n",
       "      <td>206784</td>\n",
       "      <td>how do you hack someone s snapchat</td>\n",
       "      <td>how can i hack my snapchat password</td>\n",
       "      <td>1</td>\n",
       "      <td>34</td>\n",
       "      <td>35</td>\n",
       "      <td>7</td>\n",
       "      <td>7</td>\n",
       "    </tr>\n",
       "  </tbody>\n",
       "</table>\n",
       "</div>"
      ],
      "text/plain": [
       "           id    qid1    qid2  \\\n",
       "90863  322458  448269  359896   \n",
       "65994   95389  131182  159094   \n",
       "49790   86180  145376  145377   \n",
       "71726   32727   60209   60210   \n",
       "5535   210690  315332  206784   \n",
       "\n",
       "                                               question1  \\\n",
       "90863   how do you know if you are bisexual or bicurious   \n",
       "65994  why is eunuch and son of bitch more worried th...   \n",
       "49790  i had so many very big and tight pimples on my...   \n",
       "71726                is donald trump fit to be president   \n",
       "5535                  how do you hack someone s snapchat   \n",
       "\n",
       "                                               question2  is_duplicate  \\\n",
       "90863   how do you know if you are bisexual or bicurious             1   \n",
       "65994  india  why is that despite of myanmar  cambodi...             0   \n",
       "49790  what happened to ritchie valen s family after ...             0   \n",
       "71726             would donald trump be a good president             1   \n",
       "5535                 how can i hack my snapchat password             1   \n",
       "\n",
       "       q1_len  q2_len  q1_num_word  q2_num_word  \n",
       "90863      48      48           10           10  \n",
       "65994      81     148           16           32  \n",
       "49790     148      58           32           10  \n",
       "71726      35      38            7            7  \n",
       "5535       34      35            7            7  "
      ]
     },
     "execution_count": 15,
     "metadata": {},
     "output_type": "execute_result"
    }
   ],
   "source": [
    "df.head()"
   ]
  },
  {
   "cell_type": "code",
   "execution_count": 16,
   "id": "193a137f",
   "metadata": {},
   "outputs": [],
   "source": [
    "def common_words(row):\n",
    "    w1 = set(map(lambda word: word.lower().strip(),row['question1'].split(\" \")))\n",
    "    w2 = set(map(lambda word: word.lower().strip(),row['question2'].split(\" \")))\n",
    "    return len(w1 & w2)"
   ]
  },
  {
   "cell_type": "code",
   "execution_count": 17,
   "id": "bd52fc72",
   "metadata": {},
   "outputs": [
    {
     "data": {
      "text/html": [
       "<div>\n",
       "<style scoped>\n",
       "    .dataframe tbody tr th:only-of-type {\n",
       "        vertical-align: middle;\n",
       "    }\n",
       "\n",
       "    .dataframe tbody tr th {\n",
       "        vertical-align: top;\n",
       "    }\n",
       "\n",
       "    .dataframe thead th {\n",
       "        text-align: right;\n",
       "    }\n",
       "</style>\n",
       "<table border=\"1\" class=\"dataframe\">\n",
       "  <thead>\n",
       "    <tr style=\"text-align: right;\">\n",
       "      <th></th>\n",
       "      <th>id</th>\n",
       "      <th>qid1</th>\n",
       "      <th>qid2</th>\n",
       "      <th>question1</th>\n",
       "      <th>question2</th>\n",
       "      <th>is_duplicate</th>\n",
       "      <th>q1_len</th>\n",
       "      <th>q2_len</th>\n",
       "      <th>q1_num_word</th>\n",
       "      <th>q2_num_word</th>\n",
       "      <th>word_common</th>\n",
       "    </tr>\n",
       "  </thead>\n",
       "  <tbody>\n",
       "    <tr>\n",
       "      <th>90863</th>\n",
       "      <td>322458</td>\n",
       "      <td>448269</td>\n",
       "      <td>359896</td>\n",
       "      <td>how do you know if you are bisexual or bicurious</td>\n",
       "      <td>how do you know if you are bisexual or bicurious</td>\n",
       "      <td>1</td>\n",
       "      <td>48</td>\n",
       "      <td>48</td>\n",
       "      <td>10</td>\n",
       "      <td>10</td>\n",
       "      <td>9</td>\n",
       "    </tr>\n",
       "    <tr>\n",
       "      <th>65994</th>\n",
       "      <td>95389</td>\n",
       "      <td>131182</td>\n",
       "      <td>159094</td>\n",
       "      <td>why is eunuch and son of bitch more worried th...</td>\n",
       "      <td>india  why is that despite of myanmar  cambodi...</td>\n",
       "      <td>0</td>\n",
       "      <td>81</td>\n",
       "      <td>148</td>\n",
       "      <td>16</td>\n",
       "      <td>32</td>\n",
       "      <td>6</td>\n",
       "    </tr>\n",
       "    <tr>\n",
       "      <th>49790</th>\n",
       "      <td>86180</td>\n",
       "      <td>145376</td>\n",
       "      <td>145377</td>\n",
       "      <td>i had so many very big and tight pimples on my...</td>\n",
       "      <td>what happened to ritchie valen s family after ...</td>\n",
       "      <td>0</td>\n",
       "      <td>148</td>\n",
       "      <td>58</td>\n",
       "      <td>32</td>\n",
       "      <td>10</td>\n",
       "      <td>2</td>\n",
       "    </tr>\n",
       "    <tr>\n",
       "      <th>71726</th>\n",
       "      <td>32727</td>\n",
       "      <td>60209</td>\n",
       "      <td>60210</td>\n",
       "      <td>is donald trump fit to be president</td>\n",
       "      <td>would donald trump be a good president</td>\n",
       "      <td>1</td>\n",
       "      <td>35</td>\n",
       "      <td>38</td>\n",
       "      <td>7</td>\n",
       "      <td>7</td>\n",
       "      <td>4</td>\n",
       "    </tr>\n",
       "    <tr>\n",
       "      <th>5535</th>\n",
       "      <td>210690</td>\n",
       "      <td>315332</td>\n",
       "      <td>206784</td>\n",
       "      <td>how do you hack someone s snapchat</td>\n",
       "      <td>how can i hack my snapchat password</td>\n",
       "      <td>1</td>\n",
       "      <td>34</td>\n",
       "      <td>35</td>\n",
       "      <td>7</td>\n",
       "      <td>7</td>\n",
       "      <td>3</td>\n",
       "    </tr>\n",
       "  </tbody>\n",
       "</table>\n",
       "</div>"
      ],
      "text/plain": [
       "           id    qid1    qid2  \\\n",
       "90863  322458  448269  359896   \n",
       "65994   95389  131182  159094   \n",
       "49790   86180  145376  145377   \n",
       "71726   32727   60209   60210   \n",
       "5535   210690  315332  206784   \n",
       "\n",
       "                                               question1  \\\n",
       "90863   how do you know if you are bisexual or bicurious   \n",
       "65994  why is eunuch and son of bitch more worried th...   \n",
       "49790  i had so many very big and tight pimples on my...   \n",
       "71726                is donald trump fit to be president   \n",
       "5535                  how do you hack someone s snapchat   \n",
       "\n",
       "                                               question2  is_duplicate  \\\n",
       "90863   how do you know if you are bisexual or bicurious             1   \n",
       "65994  india  why is that despite of myanmar  cambodi...             0   \n",
       "49790  what happened to ritchie valen s family after ...             0   \n",
       "71726             would donald trump be a good president             1   \n",
       "5535                 how can i hack my snapchat password             1   \n",
       "\n",
       "       q1_len  q2_len  q1_num_word  q2_num_word  word_common  \n",
       "90863      48      48           10           10            9  \n",
       "65994      81     148           16           32            6  \n",
       "49790     148      58           32           10            2  \n",
       "71726      35      38            7            7            4  \n",
       "5535       34      35            7            7            3  "
      ]
     },
     "execution_count": 17,
     "metadata": {},
     "output_type": "execute_result"
    }
   ],
   "source": [
    "df['word_common'] = df.apply(common_words,axis=1)\n",
    "df.head()"
   ]
  },
  {
   "cell_type": "code",
   "execution_count": 18,
   "id": "6bc317fd",
   "metadata": {},
   "outputs": [],
   "source": [
    "def total_words(row):\n",
    "    w1 = set(map(lambda word: word.lower().strip(),row['question1'].split(\" \")))\n",
    "    w2 = set(map(lambda word: word.lower().strip(),row['question2'].split(\" \")))\n",
    "    return (len(w1) + len(w2))"
   ]
  },
  {
   "cell_type": "code",
   "execution_count": 19,
   "id": "5933d622",
   "metadata": {},
   "outputs": [],
   "source": [
    "df['total_words'] = df.apply(total_words,axis=1)"
   ]
  },
  {
   "cell_type": "code",
   "execution_count": 20,
   "id": "cdc63b93",
   "metadata": {},
   "outputs": [
    {
     "data": {
      "text/html": [
       "<div>\n",
       "<style scoped>\n",
       "    .dataframe tbody tr th:only-of-type {\n",
       "        vertical-align: middle;\n",
       "    }\n",
       "\n",
       "    .dataframe tbody tr th {\n",
       "        vertical-align: top;\n",
       "    }\n",
       "\n",
       "    .dataframe thead th {\n",
       "        text-align: right;\n",
       "    }\n",
       "</style>\n",
       "<table border=\"1\" class=\"dataframe\">\n",
       "  <thead>\n",
       "    <tr style=\"text-align: right;\">\n",
       "      <th></th>\n",
       "      <th>id</th>\n",
       "      <th>qid1</th>\n",
       "      <th>qid2</th>\n",
       "      <th>question1</th>\n",
       "      <th>question2</th>\n",
       "      <th>is_duplicate</th>\n",
       "      <th>q1_len</th>\n",
       "      <th>q2_len</th>\n",
       "      <th>q1_num_word</th>\n",
       "      <th>q2_num_word</th>\n",
       "      <th>word_common</th>\n",
       "      <th>total_words</th>\n",
       "    </tr>\n",
       "  </thead>\n",
       "  <tbody>\n",
       "    <tr>\n",
       "      <th>90863</th>\n",
       "      <td>322458</td>\n",
       "      <td>448269</td>\n",
       "      <td>359896</td>\n",
       "      <td>how do you know if you are bisexual or bicurious</td>\n",
       "      <td>how do you know if you are bisexual or bicurious</td>\n",
       "      <td>1</td>\n",
       "      <td>48</td>\n",
       "      <td>48</td>\n",
       "      <td>10</td>\n",
       "      <td>10</td>\n",
       "      <td>9</td>\n",
       "      <td>18</td>\n",
       "    </tr>\n",
       "    <tr>\n",
       "      <th>65994</th>\n",
       "      <td>95389</td>\n",
       "      <td>131182</td>\n",
       "      <td>159094</td>\n",
       "      <td>why is eunuch and son of bitch more worried th...</td>\n",
       "      <td>india  why is that despite of myanmar  cambodi...</td>\n",
       "      <td>0</td>\n",
       "      <td>81</td>\n",
       "      <td>148</td>\n",
       "      <td>16</td>\n",
       "      <td>32</td>\n",
       "      <td>6</td>\n",
       "      <td>41</td>\n",
       "    </tr>\n",
       "    <tr>\n",
       "      <th>49790</th>\n",
       "      <td>86180</td>\n",
       "      <td>145376</td>\n",
       "      <td>145377</td>\n",
       "      <td>i had so many very big and tight pimples on my...</td>\n",
       "      <td>what happened to ritchie valen s family after ...</td>\n",
       "      <td>0</td>\n",
       "      <td>148</td>\n",
       "      <td>58</td>\n",
       "      <td>32</td>\n",
       "      <td>10</td>\n",
       "      <td>2</td>\n",
       "      <td>35</td>\n",
       "    </tr>\n",
       "    <tr>\n",
       "      <th>71726</th>\n",
       "      <td>32727</td>\n",
       "      <td>60209</td>\n",
       "      <td>60210</td>\n",
       "      <td>is donald trump fit to be president</td>\n",
       "      <td>would donald trump be a good president</td>\n",
       "      <td>1</td>\n",
       "      <td>35</td>\n",
       "      <td>38</td>\n",
       "      <td>7</td>\n",
       "      <td>7</td>\n",
       "      <td>4</td>\n",
       "      <td>14</td>\n",
       "    </tr>\n",
       "    <tr>\n",
       "      <th>5535</th>\n",
       "      <td>210690</td>\n",
       "      <td>315332</td>\n",
       "      <td>206784</td>\n",
       "      <td>how do you hack someone s snapchat</td>\n",
       "      <td>how can i hack my snapchat password</td>\n",
       "      <td>1</td>\n",
       "      <td>34</td>\n",
       "      <td>35</td>\n",
       "      <td>7</td>\n",
       "      <td>7</td>\n",
       "      <td>3</td>\n",
       "      <td>14</td>\n",
       "    </tr>\n",
       "  </tbody>\n",
       "</table>\n",
       "</div>"
      ],
      "text/plain": [
       "           id    qid1    qid2  \\\n",
       "90863  322458  448269  359896   \n",
       "65994   95389  131182  159094   \n",
       "49790   86180  145376  145377   \n",
       "71726   32727   60209   60210   \n",
       "5535   210690  315332  206784   \n",
       "\n",
       "                                               question1  \\\n",
       "90863   how do you know if you are bisexual or bicurious   \n",
       "65994  why is eunuch and son of bitch more worried th...   \n",
       "49790  i had so many very big and tight pimples on my...   \n",
       "71726                is donald trump fit to be president   \n",
       "5535                  how do you hack someone s snapchat   \n",
       "\n",
       "                                               question2  is_duplicate  \\\n",
       "90863   how do you know if you are bisexual or bicurious             1   \n",
       "65994  india  why is that despite of myanmar  cambodi...             0   \n",
       "49790  what happened to ritchie valen s family after ...             0   \n",
       "71726             would donald trump be a good president             1   \n",
       "5535                 how can i hack my snapchat password             1   \n",
       "\n",
       "       q1_len  q2_len  q1_num_word  q2_num_word  word_common  total_words  \n",
       "90863      48      48           10           10            9           18  \n",
       "65994      81     148           16           32            6           41  \n",
       "49790     148      58           32           10            2           35  \n",
       "71726      35      38            7            7            4           14  \n",
       "5535       34      35            7            7            3           14  "
      ]
     },
     "execution_count": 20,
     "metadata": {},
     "output_type": "execute_result"
    }
   ],
   "source": [
    "df.head()"
   ]
  },
  {
   "cell_type": "code",
   "execution_count": 21,
   "id": "2515a1ed",
   "metadata": {},
   "outputs": [
    {
     "data": {
      "text/html": [
       "<div>\n",
       "<style scoped>\n",
       "    .dataframe tbody tr th:only-of-type {\n",
       "        vertical-align: middle;\n",
       "    }\n",
       "\n",
       "    .dataframe tbody tr th {\n",
       "        vertical-align: top;\n",
       "    }\n",
       "\n",
       "    .dataframe thead th {\n",
       "        text-align: right;\n",
       "    }\n",
       "</style>\n",
       "<table border=\"1\" class=\"dataframe\">\n",
       "  <thead>\n",
       "    <tr style=\"text-align: right;\">\n",
       "      <th></th>\n",
       "      <th>id</th>\n",
       "      <th>qid1</th>\n",
       "      <th>qid2</th>\n",
       "      <th>question1</th>\n",
       "      <th>question2</th>\n",
       "      <th>is_duplicate</th>\n",
       "      <th>q1_len</th>\n",
       "      <th>q2_len</th>\n",
       "      <th>q1_num_word</th>\n",
       "      <th>q2_num_word</th>\n",
       "      <th>word_common</th>\n",
       "      <th>total_words</th>\n",
       "      <th>word_share</th>\n",
       "    </tr>\n",
       "  </thead>\n",
       "  <tbody>\n",
       "    <tr>\n",
       "      <th>90863</th>\n",
       "      <td>322458</td>\n",
       "      <td>448269</td>\n",
       "      <td>359896</td>\n",
       "      <td>how do you know if you are bisexual or bicurious</td>\n",
       "      <td>how do you know if you are bisexual or bicurious</td>\n",
       "      <td>1</td>\n",
       "      <td>48</td>\n",
       "      <td>48</td>\n",
       "      <td>10</td>\n",
       "      <td>10</td>\n",
       "      <td>9</td>\n",
       "      <td>18</td>\n",
       "      <td>0.50</td>\n",
       "    </tr>\n",
       "    <tr>\n",
       "      <th>65994</th>\n",
       "      <td>95389</td>\n",
       "      <td>131182</td>\n",
       "      <td>159094</td>\n",
       "      <td>why is eunuch and son of bitch more worried th...</td>\n",
       "      <td>india  why is that despite of myanmar  cambodi...</td>\n",
       "      <td>0</td>\n",
       "      <td>81</td>\n",
       "      <td>148</td>\n",
       "      <td>16</td>\n",
       "      <td>32</td>\n",
       "      <td>6</td>\n",
       "      <td>41</td>\n",
       "      <td>0.15</td>\n",
       "    </tr>\n",
       "    <tr>\n",
       "      <th>49790</th>\n",
       "      <td>86180</td>\n",
       "      <td>145376</td>\n",
       "      <td>145377</td>\n",
       "      <td>i had so many very big and tight pimples on my...</td>\n",
       "      <td>what happened to ritchie valen s family after ...</td>\n",
       "      <td>0</td>\n",
       "      <td>148</td>\n",
       "      <td>58</td>\n",
       "      <td>32</td>\n",
       "      <td>10</td>\n",
       "      <td>2</td>\n",
       "      <td>35</td>\n",
       "      <td>0.06</td>\n",
       "    </tr>\n",
       "    <tr>\n",
       "      <th>71726</th>\n",
       "      <td>32727</td>\n",
       "      <td>60209</td>\n",
       "      <td>60210</td>\n",
       "      <td>is donald trump fit to be president</td>\n",
       "      <td>would donald trump be a good president</td>\n",
       "      <td>1</td>\n",
       "      <td>35</td>\n",
       "      <td>38</td>\n",
       "      <td>7</td>\n",
       "      <td>7</td>\n",
       "      <td>4</td>\n",
       "      <td>14</td>\n",
       "      <td>0.29</td>\n",
       "    </tr>\n",
       "    <tr>\n",
       "      <th>5535</th>\n",
       "      <td>210690</td>\n",
       "      <td>315332</td>\n",
       "      <td>206784</td>\n",
       "      <td>how do you hack someone s snapchat</td>\n",
       "      <td>how can i hack my snapchat password</td>\n",
       "      <td>1</td>\n",
       "      <td>34</td>\n",
       "      <td>35</td>\n",
       "      <td>7</td>\n",
       "      <td>7</td>\n",
       "      <td>3</td>\n",
       "      <td>14</td>\n",
       "      <td>0.21</td>\n",
       "    </tr>\n",
       "  </tbody>\n",
       "</table>\n",
       "</div>"
      ],
      "text/plain": [
       "           id    qid1    qid2  \\\n",
       "90863  322458  448269  359896   \n",
       "65994   95389  131182  159094   \n",
       "49790   86180  145376  145377   \n",
       "71726   32727   60209   60210   \n",
       "5535   210690  315332  206784   \n",
       "\n",
       "                                               question1  \\\n",
       "90863   how do you know if you are bisexual or bicurious   \n",
       "65994  why is eunuch and son of bitch more worried th...   \n",
       "49790  i had so many very big and tight pimples on my...   \n",
       "71726                is donald trump fit to be president   \n",
       "5535                  how do you hack someone s snapchat   \n",
       "\n",
       "                                               question2  is_duplicate  \\\n",
       "90863   how do you know if you are bisexual or bicurious             1   \n",
       "65994  india  why is that despite of myanmar  cambodi...             0   \n",
       "49790  what happened to ritchie valen s family after ...             0   \n",
       "71726             would donald trump be a good president             1   \n",
       "5535                 how can i hack my snapchat password             1   \n",
       "\n",
       "       q1_len  q2_len  q1_num_word  q2_num_word  word_common  total_words  \\\n",
       "90863      48      48           10           10            9           18   \n",
       "65994      81     148           16           32            6           41   \n",
       "49790     148      58           32           10            2           35   \n",
       "71726      35      38            7            7            4           14   \n",
       "5535       34      35            7            7            3           14   \n",
       "\n",
       "       word_share  \n",
       "90863        0.50  \n",
       "65994        0.15  \n",
       "49790        0.06  \n",
       "71726        0.29  \n",
       "5535         0.21  "
      ]
     },
     "execution_count": 21,
     "metadata": {},
     "output_type": "execute_result"
    }
   ],
   "source": [
    "df['word_share']  = round(df['word_common']/df['total_words'],2)\n",
    "df.head()"
   ]
  },
  {
   "cell_type": "code",
   "execution_count": 22,
   "id": "a65fa179",
   "metadata": {},
   "outputs": [],
   "source": [
    "from nltk.corpus import stopwords\n",
    "\n",
    "def fetch_token_feature(row):\n",
    "    \n",
    "    q1 = row['question1']\n",
    "    q2 = row['question2']\n",
    "    \n",
    "    SAVE_DIV = 0.0001\n",
    "    \n",
    "    STOP_WORDS = stopwords.words('english')\n",
    "    \n",
    "    token_feature = [0.0]*8\n",
    "    \n",
    "    q1_tokens = q1.split()\n",
    "    q2_tokens = q2.split()\n",
    "    \n",
    "    if len(q1_tokens) == 0 or len(q2_tokens) == 0 :\n",
    "        return token_feature\n",
    "    \n",
    "    q1_words = set([word for word in q1_tokens if word not in STOP_WORDS])\n",
    "    q2_words = set([word for word in q2_tokens if word not in STOP_WORDS])\n",
    "    \n",
    "    q1_stop = set([word for word in q1_tokens if word in STOP_WORDS])\n",
    "    q2_stop = set([word for word in q2_tokens if word in STOP_WORDS])\n",
    "    \n",
    "    common_word_count = len(q1_words.intersection(q2_words))\n",
    "    \n",
    "    common_stop_count = len(q1_stop.intersection(q2_stop))\n",
    "    \n",
    "    common_token_count = len(set(q1_stop).intersection(set(q2_stop)))\n",
    "    \n",
    "    token_feature[0] = common_word_count / (min(len(q1_words),len(q2_words)) + SAVE_DIV)\n",
    "    token_feature[1] = common_word_count / (max(len(q1_words),len(q2_words)) + SAVE_DIV)\n",
    "    token_feature[2] = common_stop_count / (min(len(q1_words),len(q2_words)) + SAVE_DIV)\n",
    "    token_feature[3] = common_stop_count / (max(len(q1_words),len(q2_words)) + SAVE_DIV)\n",
    "    token_feature[4] = common_token_count / (min(len(q1_words),len(q2_words)) + SAVE_DIV)\n",
    "    token_feature[5] = common_token_count / (max(len(q1_words),len(q2_words)) + SAVE_DIV)\n",
    "    \n",
    "    token_feature[6] =int(q1_tokens[-1] == q2_tokens[-1])\n",
    "    \n",
    "    token_feature[7] =int(q1_tokens[0] == q2_tokens[0])\n",
    "    \n",
    "    return token_feature"
   ]
  },
  {
   "cell_type": "code",
   "execution_count": 23,
   "id": "96fc98bc",
   "metadata": {},
   "outputs": [],
   "source": [
    "token_feature = df.apply(fetch_token_feature,axis=1)\n",
    "\n",
    "df['cwc_min'] = list(map(lambda x: x[0],token_feature))\n",
    "df['cwc_max'] = list(map(lambda x: x[1],token_feature))\n",
    "df['csc_min'] = list(map(lambda x: x[2],token_feature))\n",
    "df['csc_max'] = list(map(lambda x: x[3],token_feature))\n",
    "df['ctc_min'] = list(map(lambda x: x[4],token_feature))\n",
    "df['ctc_max'] = list(map(lambda x: x[5],token_feature))\n",
    "df['last_word_eq'] = list(map(lambda x : x[6] , token_feature))\n",
    "df['First_word_eq'] = list(map(lambda x : x[7] , token_feature))"
   ]
  },
  {
   "cell_type": "code",
   "execution_count": 24,
   "id": "b9d2dbd2",
   "metadata": {},
   "outputs": [
    {
     "data": {
      "text/plain": [
       "90863    [0.9999666677777407, 0.9999666677777407, 1.999...\n",
       "65994    [0.124998437519531, 0.090908264470323, 0.62499...\n",
       "49790    [0.0, 0.0, 0.3999920001599968, 0.1666652777893...\n",
       "71726    [0.7499812504687383, 0.5999880002399952, 0.249...\n",
       "5535     [0.6666444451851604, 0.6666444451851604, 0.333...\n",
       "                               ...                        \n",
       "59338    [0.249996875039062, 0.09523764172551559, 0.874...\n",
       "77076    [0.3999920001599968, 0.3333277778703688, 0.0, ...\n",
       "95280    [0.0, 0.0, 0.5555493827846357, 0.2499987500062...\n",
       "16522    [0.49997500124993743, 0.14285510206997043, 0.0...\n",
       "26705    [0.9999500024998749, 0.9999500024998749, 1.499...\n",
       "Length: 30000, dtype: object"
      ]
     },
     "execution_count": 24,
     "metadata": {},
     "output_type": "execute_result"
    }
   ],
   "source": [
    "token_feature "
   ]
  },
  {
   "cell_type": "code",
   "execution_count": 25,
   "id": "ece1baae",
   "metadata": {},
   "outputs": [
    {
     "data": {
      "text/html": [
       "<div>\n",
       "<style scoped>\n",
       "    .dataframe tbody tr th:only-of-type {\n",
       "        vertical-align: middle;\n",
       "    }\n",
       "\n",
       "    .dataframe tbody tr th {\n",
       "        vertical-align: top;\n",
       "    }\n",
       "\n",
       "    .dataframe thead th {\n",
       "        text-align: right;\n",
       "    }\n",
       "</style>\n",
       "<table border=\"1\" class=\"dataframe\">\n",
       "  <thead>\n",
       "    <tr style=\"text-align: right;\">\n",
       "      <th></th>\n",
       "      <th>id</th>\n",
       "      <th>qid1</th>\n",
       "      <th>qid2</th>\n",
       "      <th>question1</th>\n",
       "      <th>question2</th>\n",
       "      <th>is_duplicate</th>\n",
       "      <th>q1_len</th>\n",
       "      <th>q2_len</th>\n",
       "      <th>q1_num_word</th>\n",
       "      <th>q2_num_word</th>\n",
       "      <th>...</th>\n",
       "      <th>total_words</th>\n",
       "      <th>word_share</th>\n",
       "      <th>cwc_min</th>\n",
       "      <th>cwc_max</th>\n",
       "      <th>csc_min</th>\n",
       "      <th>csc_max</th>\n",
       "      <th>ctc_min</th>\n",
       "      <th>ctc_max</th>\n",
       "      <th>last_word_eq</th>\n",
       "      <th>First_word_eq</th>\n",
       "    </tr>\n",
       "  </thead>\n",
       "  <tbody>\n",
       "    <tr>\n",
       "      <th>90863</th>\n",
       "      <td>322458</td>\n",
       "      <td>448269</td>\n",
       "      <td>359896</td>\n",
       "      <td>how do you know if you are bisexual or bicurious</td>\n",
       "      <td>how do you know if you are bisexual or bicurious</td>\n",
       "      <td>1</td>\n",
       "      <td>48</td>\n",
       "      <td>48</td>\n",
       "      <td>10</td>\n",
       "      <td>10</td>\n",
       "      <td>...</td>\n",
       "      <td>18</td>\n",
       "      <td>0.50</td>\n",
       "      <td>0.999967</td>\n",
       "      <td>0.999967</td>\n",
       "      <td>1.999933</td>\n",
       "      <td>1.999933</td>\n",
       "      <td>1.999933</td>\n",
       "      <td>1.999933</td>\n",
       "      <td>1.0</td>\n",
       "      <td>1.0</td>\n",
       "    </tr>\n",
       "    <tr>\n",
       "      <th>65994</th>\n",
       "      <td>95389</td>\n",
       "      <td>131182</td>\n",
       "      <td>159094</td>\n",
       "      <td>why is eunuch and son of bitch more worried th...</td>\n",
       "      <td>india  why is that despite of myanmar  cambodi...</td>\n",
       "      <td>0</td>\n",
       "      <td>81</td>\n",
       "      <td>148</td>\n",
       "      <td>16</td>\n",
       "      <td>32</td>\n",
       "      <td>...</td>\n",
       "      <td>41</td>\n",
       "      <td>0.15</td>\n",
       "      <td>0.124998</td>\n",
       "      <td>0.090908</td>\n",
       "      <td>0.624992</td>\n",
       "      <td>0.454541</td>\n",
       "      <td>0.624992</td>\n",
       "      <td>0.454541</td>\n",
       "      <td>0.0</td>\n",
       "      <td>0.0</td>\n",
       "    </tr>\n",
       "    <tr>\n",
       "      <th>49790</th>\n",
       "      <td>86180</td>\n",
       "      <td>145376</td>\n",
       "      <td>145377</td>\n",
       "      <td>i had so many very big and tight pimples on my...</td>\n",
       "      <td>what happened to ritchie valen s family after ...</td>\n",
       "      <td>0</td>\n",
       "      <td>148</td>\n",
       "      <td>58</td>\n",
       "      <td>32</td>\n",
       "      <td>10</td>\n",
       "      <td>...</td>\n",
       "      <td>35</td>\n",
       "      <td>0.06</td>\n",
       "      <td>0.000000</td>\n",
       "      <td>0.000000</td>\n",
       "      <td>0.399992</td>\n",
       "      <td>0.166665</td>\n",
       "      <td>0.399992</td>\n",
       "      <td>0.166665</td>\n",
       "      <td>0.0</td>\n",
       "      <td>0.0</td>\n",
       "    </tr>\n",
       "    <tr>\n",
       "      <th>71726</th>\n",
       "      <td>32727</td>\n",
       "      <td>60209</td>\n",
       "      <td>60210</td>\n",
       "      <td>is donald trump fit to be president</td>\n",
       "      <td>would donald trump be a good president</td>\n",
       "      <td>1</td>\n",
       "      <td>35</td>\n",
       "      <td>38</td>\n",
       "      <td>7</td>\n",
       "      <td>7</td>\n",
       "      <td>...</td>\n",
       "      <td>14</td>\n",
       "      <td>0.29</td>\n",
       "      <td>0.749981</td>\n",
       "      <td>0.599988</td>\n",
       "      <td>0.249994</td>\n",
       "      <td>0.199996</td>\n",
       "      <td>0.249994</td>\n",
       "      <td>0.199996</td>\n",
       "      <td>1.0</td>\n",
       "      <td>0.0</td>\n",
       "    </tr>\n",
       "    <tr>\n",
       "      <th>5535</th>\n",
       "      <td>210690</td>\n",
       "      <td>315332</td>\n",
       "      <td>206784</td>\n",
       "      <td>how do you hack someone s snapchat</td>\n",
       "      <td>how can i hack my snapchat password</td>\n",
       "      <td>1</td>\n",
       "      <td>34</td>\n",
       "      <td>35</td>\n",
       "      <td>7</td>\n",
       "      <td>7</td>\n",
       "      <td>...</td>\n",
       "      <td>14</td>\n",
       "      <td>0.21</td>\n",
       "      <td>0.666644</td>\n",
       "      <td>0.666644</td>\n",
       "      <td>0.333322</td>\n",
       "      <td>0.333322</td>\n",
       "      <td>0.333322</td>\n",
       "      <td>0.333322</td>\n",
       "      <td>0.0</td>\n",
       "      <td>1.0</td>\n",
       "    </tr>\n",
       "  </tbody>\n",
       "</table>\n",
       "<p>5 rows × 21 columns</p>\n",
       "</div>"
      ],
      "text/plain": [
       "           id    qid1    qid2  \\\n",
       "90863  322458  448269  359896   \n",
       "65994   95389  131182  159094   \n",
       "49790   86180  145376  145377   \n",
       "71726   32727   60209   60210   \n",
       "5535   210690  315332  206784   \n",
       "\n",
       "                                               question1  \\\n",
       "90863   how do you know if you are bisexual or bicurious   \n",
       "65994  why is eunuch and son of bitch more worried th...   \n",
       "49790  i had so many very big and tight pimples on my...   \n",
       "71726                is donald trump fit to be president   \n",
       "5535                  how do you hack someone s snapchat   \n",
       "\n",
       "                                               question2  is_duplicate  \\\n",
       "90863   how do you know if you are bisexual or bicurious             1   \n",
       "65994  india  why is that despite of myanmar  cambodi...             0   \n",
       "49790  what happened to ritchie valen s family after ...             0   \n",
       "71726             would donald trump be a good president             1   \n",
       "5535                 how can i hack my snapchat password             1   \n",
       "\n",
       "       q1_len  q2_len  q1_num_word  q2_num_word  ...  total_words  word_share  \\\n",
       "90863      48      48           10           10  ...           18        0.50   \n",
       "65994      81     148           16           32  ...           41        0.15   \n",
       "49790     148      58           32           10  ...           35        0.06   \n",
       "71726      35      38            7            7  ...           14        0.29   \n",
       "5535       34      35            7            7  ...           14        0.21   \n",
       "\n",
       "        cwc_min   cwc_max   csc_min   csc_max   ctc_min   ctc_max  \\\n",
       "90863  0.999967  0.999967  1.999933  1.999933  1.999933  1.999933   \n",
       "65994  0.124998  0.090908  0.624992  0.454541  0.624992  0.454541   \n",
       "49790  0.000000  0.000000  0.399992  0.166665  0.399992  0.166665   \n",
       "71726  0.749981  0.599988  0.249994  0.199996  0.249994  0.199996   \n",
       "5535   0.666644  0.666644  0.333322  0.333322  0.333322  0.333322   \n",
       "\n",
       "       last_word_eq  First_word_eq  \n",
       "90863           1.0            1.0  \n",
       "65994           0.0            0.0  \n",
       "49790           0.0            0.0  \n",
       "71726           1.0            0.0  \n",
       "5535            0.0            1.0  \n",
       "\n",
       "[5 rows x 21 columns]"
      ]
     },
     "execution_count": 25,
     "metadata": {},
     "output_type": "execute_result"
    }
   ],
   "source": [
    "df.head()"
   ]
  },
  {
   "cell_type": "code",
   "execution_count": 26,
   "id": "7e06dfde",
   "metadata": {},
   "outputs": [
    {
     "name": "stdout",
     "output_type": "stream",
     "text": [
      "Requirement already satisfied: distance in c:\\users\\darshil\\anaconda3\\lib\\site-packages (0.1.3)\n"
     ]
    }
   ],
   "source": [
    "!pip install distance"
   ]
  },
  {
   "cell_type": "code",
   "execution_count": 27,
   "id": "bb45c0ed",
   "metadata": {},
   "outputs": [],
   "source": [
    "import distance\n",
    "\n",
    "def fetch_length_ditance(row):\n",
    "    \n",
    "    q1 = row['question1']\n",
    "    q2 = row['question2']\n",
    "    \n",
    "    length_feature = [0.0]*3\n",
    "    \n",
    "    q1_tokens = q1.split()\n",
    "    q2_tokens = q2.split()\n",
    "    \n",
    "    if len(q1_tokens) == 0 or len(q2_tokens) == 0:\n",
    "        return length_feature\n",
    "    \n",
    "    length_feature[0] = abs(len(q1_tokens) - len(q2_tokens))\n",
    "    \n",
    "    length_feature[1] = (len(q1_tokens)+len(q2_tokens))/2\n",
    "    \n",
    "    strs = list(distance.lcsubstrings(q1,q2))\n",
    "    length_feature[2] = len(strs)/(min(len(q1),len(q2)) + 1)\n",
    "    \n",
    "    return length_feature"
   ]
  },
  {
   "cell_type": "code",
   "execution_count": 28,
   "id": "0bae6a2c",
   "metadata": {},
   "outputs": [],
   "source": [
    "lenght_feature = df.apply(fetch_length_ditance,axis=1)\n",
    "\n",
    "df['abs_len_diff'] = list(map(lambda x:x[0],lenght_feature))\n",
    "df['mean_len'] = list(map(lambda x:x[1],lenght_feature))\n",
    "df['longest_substr_ration'] = list(map(lambda x:x[2],lenght_feature))"
   ]
  },
  {
   "cell_type": "code",
   "execution_count": 29,
   "id": "0e7680b0",
   "metadata": {},
   "outputs": [
    {
     "data": {
      "text/html": [
       "<div>\n",
       "<style scoped>\n",
       "    .dataframe tbody tr th:only-of-type {\n",
       "        vertical-align: middle;\n",
       "    }\n",
       "\n",
       "    .dataframe tbody tr th {\n",
       "        vertical-align: top;\n",
       "    }\n",
       "\n",
       "    .dataframe thead th {\n",
       "        text-align: right;\n",
       "    }\n",
       "</style>\n",
       "<table border=\"1\" class=\"dataframe\">\n",
       "  <thead>\n",
       "    <tr style=\"text-align: right;\">\n",
       "      <th></th>\n",
       "      <th>id</th>\n",
       "      <th>qid1</th>\n",
       "      <th>qid2</th>\n",
       "      <th>question1</th>\n",
       "      <th>question2</th>\n",
       "      <th>is_duplicate</th>\n",
       "      <th>q1_len</th>\n",
       "      <th>q2_len</th>\n",
       "      <th>q1_num_word</th>\n",
       "      <th>q2_num_word</th>\n",
       "      <th>...</th>\n",
       "      <th>cwc_max</th>\n",
       "      <th>csc_min</th>\n",
       "      <th>csc_max</th>\n",
       "      <th>ctc_min</th>\n",
       "      <th>ctc_max</th>\n",
       "      <th>last_word_eq</th>\n",
       "      <th>First_word_eq</th>\n",
       "      <th>abs_len_diff</th>\n",
       "      <th>mean_len</th>\n",
       "      <th>longest_substr_ration</th>\n",
       "    </tr>\n",
       "  </thead>\n",
       "  <tbody>\n",
       "    <tr>\n",
       "      <th>90863</th>\n",
       "      <td>322458</td>\n",
       "      <td>448269</td>\n",
       "      <td>359896</td>\n",
       "      <td>how do you know if you are bisexual or bicurious</td>\n",
       "      <td>how do you know if you are bisexual or bicurious</td>\n",
       "      <td>1</td>\n",
       "      <td>48</td>\n",
       "      <td>48</td>\n",
       "      <td>10</td>\n",
       "      <td>10</td>\n",
       "      <td>...</td>\n",
       "      <td>0.999967</td>\n",
       "      <td>1.999933</td>\n",
       "      <td>1.999933</td>\n",
       "      <td>1.999933</td>\n",
       "      <td>1.999933</td>\n",
       "      <td>1.0</td>\n",
       "      <td>1.0</td>\n",
       "      <td>0.0</td>\n",
       "      <td>10.0</td>\n",
       "      <td>0.020408</td>\n",
       "    </tr>\n",
       "    <tr>\n",
       "      <th>65994</th>\n",
       "      <td>95389</td>\n",
       "      <td>131182</td>\n",
       "      <td>159094</td>\n",
       "      <td>why is eunuch and son of bitch more worried th...</td>\n",
       "      <td>india  why is that despite of myanmar  cambodi...</td>\n",
       "      <td>0</td>\n",
       "      <td>81</td>\n",
       "      <td>148</td>\n",
       "      <td>16</td>\n",
       "      <td>32</td>\n",
       "      <td>...</td>\n",
       "      <td>0.090908</td>\n",
       "      <td>0.624992</td>\n",
       "      <td>0.454541</td>\n",
       "      <td>0.624992</td>\n",
       "      <td>0.454541</td>\n",
       "      <td>0.0</td>\n",
       "      <td>0.0</td>\n",
       "      <td>11.0</td>\n",
       "      <td>21.5</td>\n",
       "      <td>0.012195</td>\n",
       "    </tr>\n",
       "    <tr>\n",
       "      <th>49790</th>\n",
       "      <td>86180</td>\n",
       "      <td>145376</td>\n",
       "      <td>145377</td>\n",
       "      <td>i had so many very big and tight pimples on my...</td>\n",
       "      <td>what happened to ritchie valen s family after ...</td>\n",
       "      <td>0</td>\n",
       "      <td>148</td>\n",
       "      <td>58</td>\n",
       "      <td>32</td>\n",
       "      <td>10</td>\n",
       "      <td>...</td>\n",
       "      <td>0.000000</td>\n",
       "      <td>0.399992</td>\n",
       "      <td>0.166665</td>\n",
       "      <td>0.399992</td>\n",
       "      <td>0.166665</td>\n",
       "      <td>0.0</td>\n",
       "      <td>0.0</td>\n",
       "      <td>20.0</td>\n",
       "      <td>20.0</td>\n",
       "      <td>0.016949</td>\n",
       "    </tr>\n",
       "    <tr>\n",
       "      <th>71726</th>\n",
       "      <td>32727</td>\n",
       "      <td>60209</td>\n",
       "      <td>60210</td>\n",
       "      <td>is donald trump fit to be president</td>\n",
       "      <td>would donald trump be a good president</td>\n",
       "      <td>1</td>\n",
       "      <td>35</td>\n",
       "      <td>38</td>\n",
       "      <td>7</td>\n",
       "      <td>7</td>\n",
       "      <td>...</td>\n",
       "      <td>0.599988</td>\n",
       "      <td>0.249994</td>\n",
       "      <td>0.199996</td>\n",
       "      <td>0.249994</td>\n",
       "      <td>0.199996</td>\n",
       "      <td>1.0</td>\n",
       "      <td>0.0</td>\n",
       "      <td>0.0</td>\n",
       "      <td>7.0</td>\n",
       "      <td>0.027778</td>\n",
       "    </tr>\n",
       "    <tr>\n",
       "      <th>5535</th>\n",
       "      <td>210690</td>\n",
       "      <td>315332</td>\n",
       "      <td>206784</td>\n",
       "      <td>how do you hack someone s snapchat</td>\n",
       "      <td>how can i hack my snapchat password</td>\n",
       "      <td>1</td>\n",
       "      <td>34</td>\n",
       "      <td>35</td>\n",
       "      <td>7</td>\n",
       "      <td>7</td>\n",
       "      <td>...</td>\n",
       "      <td>0.666644</td>\n",
       "      <td>0.333322</td>\n",
       "      <td>0.333322</td>\n",
       "      <td>0.333322</td>\n",
       "      <td>0.333322</td>\n",
       "      <td>0.0</td>\n",
       "      <td>1.0</td>\n",
       "      <td>0.0</td>\n",
       "      <td>7.0</td>\n",
       "      <td>0.028571</td>\n",
       "    </tr>\n",
       "  </tbody>\n",
       "</table>\n",
       "<p>5 rows × 24 columns</p>\n",
       "</div>"
      ],
      "text/plain": [
       "           id    qid1    qid2  \\\n",
       "90863  322458  448269  359896   \n",
       "65994   95389  131182  159094   \n",
       "49790   86180  145376  145377   \n",
       "71726   32727   60209   60210   \n",
       "5535   210690  315332  206784   \n",
       "\n",
       "                                               question1  \\\n",
       "90863   how do you know if you are bisexual or bicurious   \n",
       "65994  why is eunuch and son of bitch more worried th...   \n",
       "49790  i had so many very big and tight pimples on my...   \n",
       "71726                is donald trump fit to be president   \n",
       "5535                  how do you hack someone s snapchat   \n",
       "\n",
       "                                               question2  is_duplicate  \\\n",
       "90863   how do you know if you are bisexual or bicurious             1   \n",
       "65994  india  why is that despite of myanmar  cambodi...             0   \n",
       "49790  what happened to ritchie valen s family after ...             0   \n",
       "71726             would donald trump be a good president             1   \n",
       "5535                 how can i hack my snapchat password             1   \n",
       "\n",
       "       q1_len  q2_len  q1_num_word  q2_num_word  ...   cwc_max   csc_min  \\\n",
       "90863      48      48           10           10  ...  0.999967  1.999933   \n",
       "65994      81     148           16           32  ...  0.090908  0.624992   \n",
       "49790     148      58           32           10  ...  0.000000  0.399992   \n",
       "71726      35      38            7            7  ...  0.599988  0.249994   \n",
       "5535       34      35            7            7  ...  0.666644  0.333322   \n",
       "\n",
       "        csc_max   ctc_min   ctc_max  last_word_eq  First_word_eq  \\\n",
       "90863  1.999933  1.999933  1.999933           1.0            1.0   \n",
       "65994  0.454541  0.624992  0.454541           0.0            0.0   \n",
       "49790  0.166665  0.399992  0.166665           0.0            0.0   \n",
       "71726  0.199996  0.249994  0.199996           1.0            0.0   \n",
       "5535   0.333322  0.333322  0.333322           0.0            1.0   \n",
       "\n",
       "       abs_len_diff  mean_len  longest_substr_ration  \n",
       "90863           0.0      10.0               0.020408  \n",
       "65994          11.0      21.5               0.012195  \n",
       "49790          20.0      20.0               0.016949  \n",
       "71726           0.0       7.0               0.027778  \n",
       "5535            0.0       7.0               0.028571  \n",
       "\n",
       "[5 rows x 24 columns]"
      ]
     },
     "execution_count": 29,
     "metadata": {},
     "output_type": "execute_result"
    }
   ],
   "source": [
    "df.head()"
   ]
  },
  {
   "cell_type": "code",
   "execution_count": 30,
   "id": "227d74f3",
   "metadata": {},
   "outputs": [
    {
     "name": "stdout",
     "output_type": "stream",
     "text": [
      "Requirement already satisfied: fuzzywuzzy in c:\\users\\darshil\\anaconda3\\lib\\site-packages (0.18.0)\n"
     ]
    }
   ],
   "source": [
    "!pip install fuzzywuzzy"
   ]
  },
  {
   "cell_type": "code",
   "execution_count": 31,
   "id": "53782f03",
   "metadata": {},
   "outputs": [],
   "source": [
    "from fuzzywuzzy import fuzz\n",
    "\n",
    "def fetch_fuzzy_features(row):\n",
    "    \n",
    "    q1 = row['question1']\n",
    "    q2 = row['question2']\n",
    "    \n",
    "    fuzzy_features = [0.0]*4\n",
    "    \n",
    "    fuzzy_features[0] = fuzz.QRatio(q1,q2)\n",
    "    \n",
    "    fuzzy_features[1] = fuzz.partial_ratio(q1,q2)\n",
    "    \n",
    "    fuzzy_features[2] = fuzz.token_sort_ratio(q1,q2)\n",
    "    \n",
    "    fuzzy_features[3] = fuzz.token_set_ratio(q1,q2)\n",
    "    \n",
    "    return fuzzy_features"
   ]
  },
  {
   "cell_type": "code",
   "execution_count": 32,
   "id": "6a39ebd5",
   "metadata": {},
   "outputs": [],
   "source": [
    "fuzzy_features = df.apply(fetch_fuzzy_features,axis=1)\n",
    "\n",
    "df['fuzz_ratio'] = list(map(lambda x:x[0],fuzzy_features))\n",
    "df['fuzz_partial_ratio'] = list(map(lambda x:x[1],fuzzy_features))\n",
    "df['token_sort_ratio'] = list(map(lambda x:x[2],fuzzy_features))\n",
    "df['token_set_ratio'] = list(map(lambda x:x[3],fuzzy_features))"
   ]
  },
  {
   "cell_type": "code",
   "execution_count": 33,
   "id": "271395f3",
   "metadata": {},
   "outputs": [
    {
     "data": {
      "text/html": [
       "<div>\n",
       "<style scoped>\n",
       "    .dataframe tbody tr th:only-of-type {\n",
       "        vertical-align: middle;\n",
       "    }\n",
       "\n",
       "    .dataframe tbody tr th {\n",
       "        vertical-align: top;\n",
       "    }\n",
       "\n",
       "    .dataframe thead th {\n",
       "        text-align: right;\n",
       "    }\n",
       "</style>\n",
       "<table border=\"1\" class=\"dataframe\">\n",
       "  <thead>\n",
       "    <tr style=\"text-align: right;\">\n",
       "      <th></th>\n",
       "      <th>id</th>\n",
       "      <th>qid1</th>\n",
       "      <th>qid2</th>\n",
       "      <th>question1</th>\n",
       "      <th>question2</th>\n",
       "      <th>is_duplicate</th>\n",
       "      <th>q1_len</th>\n",
       "      <th>q2_len</th>\n",
       "      <th>q1_num_word</th>\n",
       "      <th>q2_num_word</th>\n",
       "      <th>...</th>\n",
       "      <th>ctc_max</th>\n",
       "      <th>last_word_eq</th>\n",
       "      <th>First_word_eq</th>\n",
       "      <th>abs_len_diff</th>\n",
       "      <th>mean_len</th>\n",
       "      <th>longest_substr_ration</th>\n",
       "      <th>fuzz_ratio</th>\n",
       "      <th>fuzz_partial_ratio</th>\n",
       "      <th>token_sort_ratio</th>\n",
       "      <th>token_set_ratio</th>\n",
       "    </tr>\n",
       "  </thead>\n",
       "  <tbody>\n",
       "    <tr>\n",
       "      <th>90863</th>\n",
       "      <td>322458</td>\n",
       "      <td>448269</td>\n",
       "      <td>359896</td>\n",
       "      <td>how do you know if you are bisexual or bicurious</td>\n",
       "      <td>how do you know if you are bisexual or bicurious</td>\n",
       "      <td>1</td>\n",
       "      <td>48</td>\n",
       "      <td>48</td>\n",
       "      <td>10</td>\n",
       "      <td>10</td>\n",
       "      <td>...</td>\n",
       "      <td>1.999933</td>\n",
       "      <td>1.0</td>\n",
       "      <td>1.0</td>\n",
       "      <td>0.0</td>\n",
       "      <td>10.0</td>\n",
       "      <td>0.020408</td>\n",
       "      <td>100</td>\n",
       "      <td>100</td>\n",
       "      <td>100</td>\n",
       "      <td>100</td>\n",
       "    </tr>\n",
       "    <tr>\n",
       "      <th>65994</th>\n",
       "      <td>95389</td>\n",
       "      <td>131182</td>\n",
       "      <td>159094</td>\n",
       "      <td>why is eunuch and son of bitch more worried th...</td>\n",
       "      <td>india  why is that despite of myanmar  cambodi...</td>\n",
       "      <td>0</td>\n",
       "      <td>81</td>\n",
       "      <td>148</td>\n",
       "      <td>16</td>\n",
       "      <td>32</td>\n",
       "      <td>...</td>\n",
       "      <td>0.454541</td>\n",
       "      <td>0.0</td>\n",
       "      <td>0.0</td>\n",
       "      <td>11.0</td>\n",
       "      <td>21.5</td>\n",
       "      <td>0.012195</td>\n",
       "      <td>24</td>\n",
       "      <td>35</td>\n",
       "      <td>38</td>\n",
       "      <td>47</td>\n",
       "    </tr>\n",
       "    <tr>\n",
       "      <th>49790</th>\n",
       "      <td>86180</td>\n",
       "      <td>145376</td>\n",
       "      <td>145377</td>\n",
       "      <td>i had so many very big and tight pimples on my...</td>\n",
       "      <td>what happened to ritchie valen s family after ...</td>\n",
       "      <td>0</td>\n",
       "      <td>148</td>\n",
       "      <td>58</td>\n",
       "      <td>32</td>\n",
       "      <td>10</td>\n",
       "      <td>...</td>\n",
       "      <td>0.166665</td>\n",
       "      <td>0.0</td>\n",
       "      <td>0.0</td>\n",
       "      <td>20.0</td>\n",
       "      <td>20.0</td>\n",
       "      <td>0.016949</td>\n",
       "      <td>19</td>\n",
       "      <td>43</td>\n",
       "      <td>33</td>\n",
       "      <td>35</td>\n",
       "    </tr>\n",
       "    <tr>\n",
       "      <th>71726</th>\n",
       "      <td>32727</td>\n",
       "      <td>60209</td>\n",
       "      <td>60210</td>\n",
       "      <td>is donald trump fit to be president</td>\n",
       "      <td>would donald trump be a good president</td>\n",
       "      <td>1</td>\n",
       "      <td>35</td>\n",
       "      <td>38</td>\n",
       "      <td>7</td>\n",
       "      <td>7</td>\n",
       "      <td>...</td>\n",
       "      <td>0.199996</td>\n",
       "      <td>1.0</td>\n",
       "      <td>0.0</td>\n",
       "      <td>0.0</td>\n",
       "      <td>7.0</td>\n",
       "      <td>0.027778</td>\n",
       "      <td>71</td>\n",
       "      <td>74</td>\n",
       "      <td>71</td>\n",
       "      <td>83</td>\n",
       "    </tr>\n",
       "    <tr>\n",
       "      <th>5535</th>\n",
       "      <td>210690</td>\n",
       "      <td>315332</td>\n",
       "      <td>206784</td>\n",
       "      <td>how do you hack someone s snapchat</td>\n",
       "      <td>how can i hack my snapchat password</td>\n",
       "      <td>1</td>\n",
       "      <td>34</td>\n",
       "      <td>35</td>\n",
       "      <td>7</td>\n",
       "      <td>7</td>\n",
       "      <td>...</td>\n",
       "      <td>0.333322</td>\n",
       "      <td>0.0</td>\n",
       "      <td>1.0</td>\n",
       "      <td>0.0</td>\n",
       "      <td>7.0</td>\n",
       "      <td>0.028571</td>\n",
       "      <td>61</td>\n",
       "      <td>62</td>\n",
       "      <td>58</td>\n",
       "      <td>67</td>\n",
       "    </tr>\n",
       "  </tbody>\n",
       "</table>\n",
       "<p>5 rows × 28 columns</p>\n",
       "</div>"
      ],
      "text/plain": [
       "           id    qid1    qid2  \\\n",
       "90863  322458  448269  359896   \n",
       "65994   95389  131182  159094   \n",
       "49790   86180  145376  145377   \n",
       "71726   32727   60209   60210   \n",
       "5535   210690  315332  206784   \n",
       "\n",
       "                                               question1  \\\n",
       "90863   how do you know if you are bisexual or bicurious   \n",
       "65994  why is eunuch and son of bitch more worried th...   \n",
       "49790  i had so many very big and tight pimples on my...   \n",
       "71726                is donald trump fit to be president   \n",
       "5535                  how do you hack someone s snapchat   \n",
       "\n",
       "                                               question2  is_duplicate  \\\n",
       "90863   how do you know if you are bisexual or bicurious             1   \n",
       "65994  india  why is that despite of myanmar  cambodi...             0   \n",
       "49790  what happened to ritchie valen s family after ...             0   \n",
       "71726             would donald trump be a good president             1   \n",
       "5535                 how can i hack my snapchat password             1   \n",
       "\n",
       "       q1_len  q2_len  q1_num_word  q2_num_word  ...   ctc_max  last_word_eq  \\\n",
       "90863      48      48           10           10  ...  1.999933           1.0   \n",
       "65994      81     148           16           32  ...  0.454541           0.0   \n",
       "49790     148      58           32           10  ...  0.166665           0.0   \n",
       "71726      35      38            7            7  ...  0.199996           1.0   \n",
       "5535       34      35            7            7  ...  0.333322           0.0   \n",
       "\n",
       "       First_word_eq  abs_len_diff  mean_len  longest_substr_ration  \\\n",
       "90863            1.0           0.0      10.0               0.020408   \n",
       "65994            0.0          11.0      21.5               0.012195   \n",
       "49790            0.0          20.0      20.0               0.016949   \n",
       "71726            0.0           0.0       7.0               0.027778   \n",
       "5535             1.0           0.0       7.0               0.028571   \n",
       "\n",
       "       fuzz_ratio  fuzz_partial_ratio  token_sort_ratio  token_set_ratio  \n",
       "90863         100                 100               100              100  \n",
       "65994          24                  35                38               47  \n",
       "49790          19                  43                33               35  \n",
       "71726          71                  74                71               83  \n",
       "5535           61                  62                58               67  \n",
       "\n",
       "[5 rows x 28 columns]"
      ]
     },
     "execution_count": 33,
     "metadata": {},
     "output_type": "execute_result"
    }
   ],
   "source": [
    "df.head()"
   ]
  },
  {
   "cell_type": "code",
   "execution_count": 34,
   "id": "5eb26240",
   "metadata": {},
   "outputs": [
    {
     "data": {
      "text/plain": [
       "(30000, 28)"
      ]
     },
     "execution_count": 34,
     "metadata": {},
     "output_type": "execute_result"
    }
   ],
   "source": [
    "df.shape"
   ]
  },
  {
   "cell_type": "code",
   "execution_count": 35,
   "id": "396489cd",
   "metadata": {},
   "outputs": [
    {
     "data": {
      "text/plain": [
       "<seaborn.axisgrid.PairGrid at 0x28475b03750>"
      ]
     },
     "execution_count": 35,
     "metadata": {},
     "output_type": "execute_result"
    },
    {
     "data": {
      "image/png": "[encoded data removed]",
      "text/plain": [
       "<Figure size 843.611x750 with 12 Axes>"
      ]
     },
     "metadata": {},
     "output_type": "display_data"
    }
   ],
   "source": [
    "sns.pairplot(df[['ctc_min','cwc_min','csc_min','is_duplicate']],hue='is_duplicate')"
   ]
  },
  {
   "cell_type": "code",
   "execution_count": 36,
   "id": "7a3c75a5",
   "metadata": {},
   "outputs": [
    {
     "data": {
      "text/plain": [
       "<seaborn.axisgrid.PairGrid at 0x28475644610>"
      ]
     },
     "execution_count": 36,
     "metadata": {},
     "output_type": "execute_result"
    },
    {
     "data": {
      "image/png": "[encoded data removed]",
      "text/plain": [
       "<Figure size 843.611x750 with 12 Axes>"
      ]
     },
     "metadata": {},
     "output_type": "display_data"
    }
   ],
   "source": [
    "sns.pairplot(df[['ctc_max','cwc_max','csc_max','is_duplicate']],hue='is_duplicate')"
   ]
  },
  {
   "cell_type": "code",
   "execution_count": 37,
   "id": "cfa95029",
   "metadata": {},
   "outputs": [
    {
     "data": {
      "text/plain": [
       "count    30000.000000\n",
       "mean         1.819204\n",
       "std        230.937694\n",
       "min          0.000000\n",
       "25%          0.181817\n",
       "50%          0.399992\n",
       "75%          0.666656\n",
       "max      40000.000000\n",
       "Name: csc_max, dtype: float64"
      ]
     },
     "execution_count": 37,
     "metadata": {},
     "output_type": "execute_result"
    }
   ],
   "source": [
    "df['csc_max'].describe()"
   ]
  },
  {
   "cell_type": "code",
   "execution_count": 38,
   "id": "96aa63e4",
   "metadata": {},
   "outputs": [],
   "source": [
    "from sklearn.preprocessing import StandardScaler,MinMaxScaler\n",
    " \n",
    "sc = StandardScaler()\n",
    "mx = MinMaxScaler()\n",
    "df['csc_max'] = sc.fit_transform(df[['csc_max']])\n",
    "df['csc_min'] = sc.fit_transform(df[['csc_min']])\n",
    "df['ctc_max'] = sc.fit_transform(df[['ctc_max']])\n",
    "df['ctc_min'] = sc.fit_transform(df[['ctc_min']])\n",
    "df['cwc_max'] = sc.fit_transform(df[['cwc_max']])\n",
    "df['cwc_min'] = sc.fit_transform(df[['cwc_min']])\n",
    "\n",
    "df['csc_max'] = mx.fit_transform(df[['csc_max']])\n",
    "df['csc_min'] = mx.fit_transform(df[['csc_min']])\n",
    "df['ctc_max'] = mx.fit_transform(df[['ctc_max']])\n",
    "df['ctc_min'] = mx.fit_transform(df[['ctc_min']])\n",
    "df['cwc_max'] = mx.fit_transform(df[['cwc_max']])\n",
    "df['cwc_min'] = mx.fit_transform(df[['cwc_min']])"
   ]
  },
  {
   "cell_type": "code",
   "execution_count": 39,
   "id": "366dee73",
   "metadata": {},
   "outputs": [
    {
     "data": {
      "text/plain": [
       "<seaborn.axisgrid.PairGrid at 0x284720df9d0>"
      ]
     },
     "execution_count": 39,
     "metadata": {},
     "output_type": "execute_result"
    },
    {
     "data": {
      "image/png": "[encoded data removed]",
      "text/plain": [
       "<Figure size 843.611x750 with 12 Axes>"
      ]
     },
     "metadata": {},
     "output_type": "display_data"
    }
   ],
   "source": [
    "sns.pairplot(df[['ctc_min','cwc_min','csc_min','is_duplicate']],hue='is_duplicate')"
   ]
  },
  {
   "cell_type": "code",
   "execution_count": 40,
   "id": "c3ab9c41",
   "metadata": {},
   "outputs": [
    {
     "data": {
      "text/plain": [
       "<seaborn.axisgrid.PairGrid at 0x2847e39d9d0>"
      ]
     },
     "execution_count": 40,
     "metadata": {},
     "output_type": "execute_result"
    },
    {
     "data": {
      "image/png": "[encoded data removed]",
      "text/plain": [
       "<Figure size 843.611x750 with 12 Axes>"
      ]
     },
     "metadata": {},
     "output_type": "display_data"
    }
   ],
   "source": [
    "sns.pairplot(df[['ctc_max','cwc_max','csc_max','is_duplicate']],hue='is_duplicate')"
   ]
  },
  {
   "cell_type": "code",
   "execution_count": 41,
   "id": "a7e03180",
   "metadata": {},
   "outputs": [],
   "source": [
    "x =MinMaxScaler().fit_transform(df[['cwc_min','cwc_max','csc_min','csc_max','ctc_min','ctc_max','last_word_eq','First_word_eq','abs_len_diff','mean_len','longest_substr_ration','fuzz_ratio','fuzz_partial_ratio','token_sort_ratio','token_set_ratio']])\n",
    "y = df['is_duplicate'].values"
   ]
  },
  {
   "cell_type": "code",
   "execution_count": 42,
   "id": "483cbeea",
   "metadata": {},
   "outputs": [
    {
     "name": "stdout",
     "output_type": "stream",
     "text": [
      "Requirement already satisfied: manifold in c:\\users\\darshil\\anaconda3\\lib\\site-packages (0.2.0)\n",
      "Requirement already satisfied: Genshi in c:\\users\\darshil\\anaconda3\\lib\\site-packages (from manifold) (0.7.9)\n",
      "Requirement already satisfied: six in c:\\users\\darshil\\anaconda3\\lib\\site-packages (from Genshi->manifold) (1.16.0)\n"
     ]
    }
   ],
   "source": [
    "!pip install manifold"
   ]
  },
  {
   "cell_type": "code",
   "execution_count": 43,
   "id": "46f4696f",
   "metadata": {},
   "outputs": [],
   "source": [
    "# from sklearn.manifold import TSNE\n",
    "\n",
    "# tsne2d = TSNE(\n",
    "#     n_components=2,\n",
    "#     init='random',\n",
    "#     random_state=101,\n",
    "#     method='barnes_hut',\n",
    "#     n_iter=1000,\n",
    "#     verbose=2,\n",
    "#     angle=0.5,\n",
    "# ).fit_transform(x)"
   ]
  },
  {
   "cell_type": "code",
   "execution_count": 44,
   "id": "0ad66532",
   "metadata": {},
   "outputs": [],
   "source": [
    "que_df = df[['question1','question2']]"
   ]
  },
  {
   "cell_type": "code",
   "execution_count": 45,
   "id": "0db0abbc",
   "metadata": {},
   "outputs": [
    {
     "data": {
      "text/html": [
       "<div>\n",
       "<style scoped>\n",
       "    .dataframe tbody tr th:only-of-type {\n",
       "        vertical-align: middle;\n",
       "    }\n",
       "\n",
       "    .dataframe tbody tr th {\n",
       "        vertical-align: top;\n",
       "    }\n",
       "\n",
       "    .dataframe thead th {\n",
       "        text-align: right;\n",
       "    }\n",
       "</style>\n",
       "<table border=\"1\" class=\"dataframe\">\n",
       "  <thead>\n",
       "    <tr style=\"text-align: right;\">\n",
       "      <th></th>\n",
       "      <th>question1</th>\n",
       "      <th>question2</th>\n",
       "    </tr>\n",
       "  </thead>\n",
       "  <tbody>\n",
       "    <tr>\n",
       "      <th>90863</th>\n",
       "      <td>how do you know if you are bisexual or bicurious</td>\n",
       "      <td>how do you know if you are bisexual or bicurious</td>\n",
       "    </tr>\n",
       "    <tr>\n",
       "      <th>65994</th>\n",
       "      <td>why is eunuch and son of bitch more worried th...</td>\n",
       "      <td>india  why is that despite of myanmar  cambodi...</td>\n",
       "    </tr>\n",
       "    <tr>\n",
       "      <th>49790</th>\n",
       "      <td>i had so many very big and tight pimples on my...</td>\n",
       "      <td>what happened to ritchie valen s family after ...</td>\n",
       "    </tr>\n",
       "    <tr>\n",
       "      <th>71726</th>\n",
       "      <td>is donald trump fit to be president</td>\n",
       "      <td>would donald trump be a good president</td>\n",
       "    </tr>\n",
       "    <tr>\n",
       "      <th>5535</th>\n",
       "      <td>how do you hack someone s snapchat</td>\n",
       "      <td>how can i hack my snapchat password</td>\n",
       "    </tr>\n",
       "  </tbody>\n",
       "</table>\n",
       "</div>"
      ],
      "text/plain": [
       "                                               question1  \\\n",
       "90863   how do you know if you are bisexual or bicurious   \n",
       "65994  why is eunuch and son of bitch more worried th...   \n",
       "49790  i had so many very big and tight pimples on my...   \n",
       "71726                is donald trump fit to be president   \n",
       "5535                  how do you hack someone s snapchat   \n",
       "\n",
       "                                               question2  \n",
       "90863   how do you know if you are bisexual or bicurious  \n",
       "65994  india  why is that despite of myanmar  cambodi...  \n",
       "49790  what happened to ritchie valen s family after ...  \n",
       "71726             would donald trump be a good president  \n",
       "5535                 how can i hack my snapchat password  "
      ]
     },
     "execution_count": 45,
     "metadata": {},
     "output_type": "execute_result"
    }
   ],
   "source": [
    "que_df.head()"
   ]
  },
  {
   "cell_type": "code",
   "execution_count": 46,
   "id": "7e02da8a",
   "metadata": {},
   "outputs": [
    {
     "data": {
      "text/html": [
       "<div>\n",
       "<style scoped>\n",
       "    .dataframe tbody tr th:only-of-type {\n",
       "        vertical-align: middle;\n",
       "    }\n",
       "\n",
       "    .dataframe tbody tr th {\n",
       "        vertical-align: top;\n",
       "    }\n",
       "\n",
       "    .dataframe thead th {\n",
       "        text-align: right;\n",
       "    }\n",
       "</style>\n",
       "<table border=\"1\" class=\"dataframe\">\n",
       "  <thead>\n",
       "    <tr style=\"text-align: right;\">\n",
       "      <th></th>\n",
       "      <th>is_duplicate</th>\n",
       "      <th>q1_len</th>\n",
       "      <th>q2_len</th>\n",
       "      <th>q1_num_word</th>\n",
       "      <th>q2_num_word</th>\n",
       "      <th>word_common</th>\n",
       "      <th>total_words</th>\n",
       "      <th>word_share</th>\n",
       "      <th>cwc_min</th>\n",
       "      <th>cwc_max</th>\n",
       "      <th>...</th>\n",
       "      <th>ctc_max</th>\n",
       "      <th>last_word_eq</th>\n",
       "      <th>First_word_eq</th>\n",
       "      <th>abs_len_diff</th>\n",
       "      <th>mean_len</th>\n",
       "      <th>longest_substr_ration</th>\n",
       "      <th>fuzz_ratio</th>\n",
       "      <th>fuzz_partial_ratio</th>\n",
       "      <th>token_sort_ratio</th>\n",
       "      <th>token_set_ratio</th>\n",
       "    </tr>\n",
       "  </thead>\n",
       "  <tbody>\n",
       "    <tr>\n",
       "      <th>90863</th>\n",
       "      <td>1</td>\n",
       "      <td>48</td>\n",
       "      <td>48</td>\n",
       "      <td>10</td>\n",
       "      <td>10</td>\n",
       "      <td>9</td>\n",
       "      <td>18</td>\n",
       "      <td>0.50</td>\n",
       "      <td>0.999972</td>\n",
       "      <td>0.999973</td>\n",
       "      <td>...</td>\n",
       "      <td>0.000050</td>\n",
       "      <td>1.0</td>\n",
       "      <td>1.0</td>\n",
       "      <td>0.0</td>\n",
       "      <td>10.0</td>\n",
       "      <td>0.020408</td>\n",
       "      <td>100</td>\n",
       "      <td>100</td>\n",
       "      <td>100</td>\n",
       "      <td>100</td>\n",
       "    </tr>\n",
       "    <tr>\n",
       "      <th>65994</th>\n",
       "      <td>0</td>\n",
       "      <td>81</td>\n",
       "      <td>148</td>\n",
       "      <td>16</td>\n",
       "      <td>32</td>\n",
       "      <td>6</td>\n",
       "      <td>41</td>\n",
       "      <td>0.15</td>\n",
       "      <td>0.124999</td>\n",
       "      <td>0.090909</td>\n",
       "      <td>...</td>\n",
       "      <td>0.000011</td>\n",
       "      <td>0.0</td>\n",
       "      <td>0.0</td>\n",
       "      <td>11.0</td>\n",
       "      <td>21.5</td>\n",
       "      <td>0.012195</td>\n",
       "      <td>24</td>\n",
       "      <td>35</td>\n",
       "      <td>38</td>\n",
       "      <td>47</td>\n",
       "    </tr>\n",
       "    <tr>\n",
       "      <th>49790</th>\n",
       "      <td>0</td>\n",
       "      <td>148</td>\n",
       "      <td>58</td>\n",
       "      <td>32</td>\n",
       "      <td>10</td>\n",
       "      <td>2</td>\n",
       "      <td>35</td>\n",
       "      <td>0.06</td>\n",
       "      <td>0.000000</td>\n",
       "      <td>0.000000</td>\n",
       "      <td>...</td>\n",
       "      <td>0.000004</td>\n",
       "      <td>0.0</td>\n",
       "      <td>0.0</td>\n",
       "      <td>20.0</td>\n",
       "      <td>20.0</td>\n",
       "      <td>0.016949</td>\n",
       "      <td>19</td>\n",
       "      <td>43</td>\n",
       "      <td>33</td>\n",
       "      <td>35</td>\n",
       "    </tr>\n",
       "    <tr>\n",
       "      <th>71726</th>\n",
       "      <td>1</td>\n",
       "      <td>35</td>\n",
       "      <td>38</td>\n",
       "      <td>7</td>\n",
       "      <td>7</td>\n",
       "      <td>4</td>\n",
       "      <td>14</td>\n",
       "      <td>0.29</td>\n",
       "      <td>0.749985</td>\n",
       "      <td>0.599992</td>\n",
       "      <td>...</td>\n",
       "      <td>0.000005</td>\n",
       "      <td>1.0</td>\n",
       "      <td>0.0</td>\n",
       "      <td>0.0</td>\n",
       "      <td>7.0</td>\n",
       "      <td>0.027778</td>\n",
       "      <td>71</td>\n",
       "      <td>74</td>\n",
       "      <td>71</td>\n",
       "      <td>83</td>\n",
       "    </tr>\n",
       "    <tr>\n",
       "      <th>5535</th>\n",
       "      <td>1</td>\n",
       "      <td>34</td>\n",
       "      <td>35</td>\n",
       "      <td>7</td>\n",
       "      <td>7</td>\n",
       "      <td>3</td>\n",
       "      <td>14</td>\n",
       "      <td>0.21</td>\n",
       "      <td>0.666648</td>\n",
       "      <td>0.666649</td>\n",
       "      <td>...</td>\n",
       "      <td>0.000008</td>\n",
       "      <td>0.0</td>\n",
       "      <td>1.0</td>\n",
       "      <td>0.0</td>\n",
       "      <td>7.0</td>\n",
       "      <td>0.028571</td>\n",
       "      <td>61</td>\n",
       "      <td>62</td>\n",
       "      <td>58</td>\n",
       "      <td>67</td>\n",
       "    </tr>\n",
       "  </tbody>\n",
       "</table>\n",
       "<p>5 rows × 23 columns</p>\n",
       "</div>"
      ],
      "text/plain": [
       "       is_duplicate  q1_len  q2_len  q1_num_word  q2_num_word  word_common  \\\n",
       "90863             1      48      48           10           10            9   \n",
       "65994             0      81     148           16           32            6   \n",
       "49790             0     148      58           32           10            2   \n",
       "71726             1      35      38            7            7            4   \n",
       "5535              1      34      35            7            7            3   \n",
       "\n",
       "       total_words  word_share   cwc_min   cwc_max  ...   ctc_max  \\\n",
       "90863           18        0.50  0.999972  0.999973  ...  0.000050   \n",
       "65994           41        0.15  0.124999  0.090909  ...  0.000011   \n",
       "49790           35        0.06  0.000000  0.000000  ...  0.000004   \n",
       "71726           14        0.29  0.749985  0.599992  ...  0.000005   \n",
       "5535            14        0.21  0.666648  0.666649  ...  0.000008   \n",
       "\n",
       "       last_word_eq  First_word_eq  abs_len_diff  mean_len  \\\n",
       "90863           1.0            1.0           0.0      10.0   \n",
       "65994           0.0            0.0          11.0      21.5   \n",
       "49790           0.0            0.0          20.0      20.0   \n",
       "71726           1.0            0.0           0.0       7.0   \n",
       "5535            0.0            1.0           0.0       7.0   \n",
       "\n",
       "       longest_substr_ration  fuzz_ratio  fuzz_partial_ratio  \\\n",
       "90863               0.020408         100                 100   \n",
       "65994               0.012195          24                  35   \n",
       "49790               0.016949          19                  43   \n",
       "71726               0.027778          71                  74   \n",
       "5535                0.028571          61                  62   \n",
       "\n",
       "       token_sort_ratio  token_set_ratio  \n",
       "90863               100              100  \n",
       "65994                38               47  \n",
       "49790                33               35  \n",
       "71726                71               83  \n",
       "5535                 58               67  \n",
       "\n",
       "[5 rows x 23 columns]"
      ]
     },
     "execution_count": 46,
     "metadata": {},
     "output_type": "execute_result"
    }
   ],
   "source": [
    "final_df = df.drop(columns=['id','qid1','qid2','question1','question2'])\n",
    "final_df.head()"
   ]
  },
  {
   "cell_type": "code",
   "execution_count": 47,
   "id": "b8620252",
   "metadata": {},
   "outputs": [],
   "source": [
    "from sklearn.feature_extraction.text import CountVectorizer\n",
    "\n",
    "questions =list(que_df['question1']) + list(que_df['question2'])\n",
    "\n",
    "cv = CountVectorizer(max_features=3000)\n",
    "q1_arr, q2_arr = np.vsplit(cv.fit_transform(questions).toarray(),2)"
   ]
  },
  {
   "cell_type": "code",
   "execution_count": 48,
   "id": "d577f084",
   "metadata": {},
   "outputs": [
    {
     "data": {
      "text/plain": [
       "(30000, 6000)"
      ]
     },
     "execution_count": 48,
     "metadata": {},
     "output_type": "execute_result"
    }
   ],
   "source": [
    "temp_df1 = pd.DataFrame(q1_arr,index=que_df.index)\n",
    "temp_df2 = pd.DataFrame(q2_arr,index=que_df.index)\n",
    "temp_df = pd.concat([temp_df1,temp_df2],axis=1)\n",
    "temp_df.shape"
   ]
  },
  {
   "cell_type": "code",
   "execution_count": 49,
   "id": "7a123965",
   "metadata": {},
   "outputs": [
    {
     "data": {
      "text/plain": [
       "(30000, 6023)"
      ]
     },
     "execution_count": 49,
     "metadata": {},
     "output_type": "execute_result"
    }
   ],
   "source": [
    "final_df = pd.concat([final_df,temp_df],axis=1)\n",
    "final_df.shape"
   ]
  },
  {
   "cell_type": "code",
   "execution_count": 50,
   "id": "657a8e07",
   "metadata": {},
   "outputs": [],
   "source": [
    "# questions =list(que_df['question1']) + list(que_df['question2'])"
   ]
  },
  {
   "cell_type": "code",
   "execution_count": 51,
   "id": "d521632d",
   "metadata": {},
   "outputs": [],
   "source": [
    "# import pandas as pd\n",
    "# from gensim.models import Word2Vec\n",
    "# import nltk\n",
    "# from nltk.tokenize import word_tokenize\n",
    "# from tqdm import tqdm\n",
    "# import numpy as np\n",
    "\n",
    "# que_df['question1_tokenized'] = que_df['question1'].apply(word_tokenize)\n",
    "# que_df['question2_tokenized'] = que_df['question2'].apply(word_tokenize)"
   ]
  },
  {
   "cell_type": "code",
   "execution_count": 52,
   "id": "8ab4d4ae",
   "metadata": {},
   "outputs": [],
   "source": [
    "# model = Word2Vec(questions, vector_size=100, window=5, min_count=1, workers=4)"
   ]
  },
  {
   "cell_type": "code",
   "execution_count": 53,
   "id": "d0f944d4",
   "metadata": {},
   "outputs": [],
   "source": [
    "# def document_vector(doc, model):\n",
    "#     words = doc\n",
    "#     word_vecs = [model.wv[word] for word in words if word in model.wv]\n",
    "#     if word_vecs:\n",
    "#         return np.mean(word_vecs, axis=0)\n",
    "#     else:\n",
    "#         return np.zeros(model.vector_size)"
   ]
  },
  {
   "cell_type": "code",
   "execution_count": 54,
   "id": "1d4d2471",
   "metadata": {},
   "outputs": [],
   "source": [
    "# x_question1 = []\n",
    "# for doc in tqdm(que_df['question1_tokenized'].values):\n",
    "#     x_question1.append(document_vector(doc, model))\n",
    "\n",
    "# x_question2 = []\n",
    "# for doc in tqdm(que_df['question2_tokenized'].values):\n",
    "#     x_question2.append(document_vector(doc, model))"
   ]
  },
  {
   "cell_type": "code",
   "execution_count": 55,
   "id": "31d73fb3",
   "metadata": {},
   "outputs": [],
   "source": [
    "# x_question1\n",
    "# que_df['question2_vec'] = x_question2"
   ]
  },
  {
   "cell_type": "code",
   "execution_count": 56,
   "id": "edaea024",
   "metadata": {},
   "outputs": [],
   "source": [
    "# que_df.shape"
   ]
  },
  {
   "cell_type": "code",
   "execution_count": 57,
   "id": "fbf60a64",
   "metadata": {},
   "outputs": [],
   "source": [
    "# final_df.head()"
   ]
  },
  {
   "cell_type": "code",
   "execution_count": 58,
   "id": "de256a97",
   "metadata": {},
   "outputs": [],
   "source": [
    "from sklearn.ensemble import RandomForestClassifier\n",
    "\n",
    "rf = RandomForestClassifier()"
   ]
  },
  {
   "cell_type": "code",
   "execution_count": 59,
   "id": "b4635334",
   "metadata": {},
   "outputs": [],
   "source": [
    "# temp_df1 = pd.DataFrame(x_question1,index=que_df.index)"
   ]
  },
  {
   "cell_type": "code",
   "execution_count": 60,
   "id": "4126b578",
   "metadata": {},
   "outputs": [],
   "source": [
    "# temp_df1"
   ]
  },
  {
   "cell_type": "code",
   "execution_count": 61,
   "id": "29c12142",
   "metadata": {},
   "outputs": [],
   "source": [
    "# temp_df2 = pd.DataFrame(x_question2,index=que_df.index)"
   ]
  },
  {
   "cell_type": "code",
   "execution_count": 62,
   "id": "749cf2ca",
   "metadata": {},
   "outputs": [],
   "source": [
    "# temp_df = pd.concat([temp_df1,temp_df2],axis=1)"
   ]
  },
  {
   "cell_type": "code",
   "execution_count": 63,
   "id": "da7a9bf0",
   "metadata": {},
   "outputs": [],
   "source": [
    "# final_df = pd.concat([final_df,temp_df],axis=1)"
   ]
  },
  {
   "cell_type": "code",
   "execution_count": 64,
   "id": "bd7ad6e8",
   "metadata": {},
   "outputs": [],
   "source": [
    "# final_df.shape"
   ]
  },
  {
   "cell_type": "code",
   "execution_count": 65,
   "id": "fac91472",
   "metadata": {},
   "outputs": [],
   "source": [
    "# final_df.head()"
   ]
  },
  {
   "cell_type": "code",
   "execution_count": 66,
   "id": "6080dd0c",
   "metadata": {},
   "outputs": [],
   "source": [
    "# final_df.info()"
   ]
  },
  {
   "cell_type": "code",
   "execution_count": 67,
   "id": "9df601f1",
   "metadata": {},
   "outputs": [],
   "source": [
    "x = final_df.iloc[:,1:]\n",
    "y = final_df.iloc[:,0]"
   ]
  },
  {
   "cell_type": "code",
   "execution_count": 68,
   "id": "b7fb8633",
   "metadata": {},
   "outputs": [],
   "source": [
    "from sklearn.model_selection import train_test_split\n",
    "\n",
    "x_train,x_test,y_train,y_test = train_test_split(x,y,test_size=0.2)"
   ]
  },
  {
   "cell_type": "code",
   "execution_count": 72,
   "id": "da0f1e9b",
   "metadata": {},
   "outputs": [],
   "source": [
    "x_train.columns = x_train.columns.astype(str)"
   ]
  },
  {
   "cell_type": "code",
   "execution_count": 73,
   "id": "60e16dee",
   "metadata": {},
   "outputs": [
    {
     "data": {
      "text/html": [
       "<div>\n",
       "<style scoped>\n",
       "    .dataframe tbody tr th:only-of-type {\n",
       "        vertical-align: middle;\n",
       "    }\n",
       "\n",
       "    .dataframe tbody tr th {\n",
       "        vertical-align: top;\n",
       "    }\n",
       "\n",
       "    .dataframe thead th {\n",
       "        text-align: right;\n",
       "    }\n",
       "</style>\n",
       "<table border=\"1\" class=\"dataframe\">\n",
       "  <thead>\n",
       "    <tr style=\"text-align: right;\">\n",
       "      <th></th>\n",
       "      <th>q1_len</th>\n",
       "      <th>q2_len</th>\n",
       "      <th>q1_num_word</th>\n",
       "      <th>q2_num_word</th>\n",
       "      <th>word_common</th>\n",
       "      <th>total_words</th>\n",
       "      <th>word_share</th>\n",
       "      <th>cwc_min</th>\n",
       "      <th>cwc_max</th>\n",
       "      <th>csc_min</th>\n",
       "      <th>...</th>\n",
       "      <th>2990</th>\n",
       "      <th>2991</th>\n",
       "      <th>2992</th>\n",
       "      <th>2993</th>\n",
       "      <th>2994</th>\n",
       "      <th>2995</th>\n",
       "      <th>2996</th>\n",
       "      <th>2997</th>\n",
       "      <th>2998</th>\n",
       "      <th>2999</th>\n",
       "    </tr>\n",
       "  </thead>\n",
       "  <tbody>\n",
       "    <tr>\n",
       "      <th>98887</th>\n",
       "      <td>39</td>\n",
       "      <td>40</td>\n",
       "      <td>7</td>\n",
       "      <td>7</td>\n",
       "      <td>1</td>\n",
       "      <td>14</td>\n",
       "      <td>0.07</td>\n",
       "      <td>0.249995</td>\n",
       "      <td>0.199997</td>\n",
       "      <td>0.000000</td>\n",
       "      <td>...</td>\n",
       "      <td>0</td>\n",
       "      <td>0</td>\n",
       "      <td>0</td>\n",
       "      <td>0</td>\n",
       "      <td>0</td>\n",
       "      <td>0</td>\n",
       "      <td>0</td>\n",
       "      <td>0</td>\n",
       "      <td>0</td>\n",
       "      <td>0</td>\n",
       "    </tr>\n",
       "    <tr>\n",
       "      <th>53904</th>\n",
       "      <td>45</td>\n",
       "      <td>65</td>\n",
       "      <td>9</td>\n",
       "      <td>12</td>\n",
       "      <td>7</td>\n",
       "      <td>21</td>\n",
       "      <td>0.33</td>\n",
       "      <td>0.833324</td>\n",
       "      <td>0.624996</td>\n",
       "      <td>0.000008</td>\n",
       "      <td>...</td>\n",
       "      <td>0</td>\n",
       "      <td>0</td>\n",
       "      <td>0</td>\n",
       "      <td>0</td>\n",
       "      <td>0</td>\n",
       "      <td>0</td>\n",
       "      <td>0</td>\n",
       "      <td>0</td>\n",
       "      <td>0</td>\n",
       "      <td>0</td>\n",
       "    </tr>\n",
       "    <tr>\n",
       "      <th>72182</th>\n",
       "      <td>43</td>\n",
       "      <td>54</td>\n",
       "      <td>11</td>\n",
       "      <td>13</td>\n",
       "      <td>4</td>\n",
       "      <td>23</td>\n",
       "      <td>0.17</td>\n",
       "      <td>0.666648</td>\n",
       "      <td>0.399995</td>\n",
       "      <td>0.000017</td>\n",
       "      <td>...</td>\n",
       "      <td>0</td>\n",
       "      <td>0</td>\n",
       "      <td>0</td>\n",
       "      <td>0</td>\n",
       "      <td>0</td>\n",
       "      <td>0</td>\n",
       "      <td>0</td>\n",
       "      <td>0</td>\n",
       "      <td>0</td>\n",
       "      <td>0</td>\n",
       "    </tr>\n",
       "    <tr>\n",
       "      <th>96365</th>\n",
       "      <td>48</td>\n",
       "      <td>54</td>\n",
       "      <td>10</td>\n",
       "      <td>11</td>\n",
       "      <td>6</td>\n",
       "      <td>21</td>\n",
       "      <td>0.29</td>\n",
       "      <td>0.249995</td>\n",
       "      <td>0.199997</td>\n",
       "      <td>0.000031</td>\n",
       "      <td>...</td>\n",
       "      <td>0</td>\n",
       "      <td>0</td>\n",
       "      <td>0</td>\n",
       "      <td>0</td>\n",
       "      <td>0</td>\n",
       "      <td>0</td>\n",
       "      <td>0</td>\n",
       "      <td>0</td>\n",
       "      <td>0</td>\n",
       "      <td>0</td>\n",
       "    </tr>\n",
       "    <tr>\n",
       "      <th>58517</th>\n",
       "      <td>36</td>\n",
       "      <td>55</td>\n",
       "      <td>5</td>\n",
       "      <td>8</td>\n",
       "      <td>4</td>\n",
       "      <td>13</td>\n",
       "      <td>0.31</td>\n",
       "      <td>0.749985</td>\n",
       "      <td>0.599992</td>\n",
       "      <td>0.000006</td>\n",
       "      <td>...</td>\n",
       "      <td>0</td>\n",
       "      <td>0</td>\n",
       "      <td>0</td>\n",
       "      <td>0</td>\n",
       "      <td>0</td>\n",
       "      <td>0</td>\n",
       "      <td>0</td>\n",
       "      <td>0</td>\n",
       "      <td>0</td>\n",
       "      <td>0</td>\n",
       "    </tr>\n",
       "  </tbody>\n",
       "</table>\n",
       "<p>5 rows × 6022 columns</p>\n",
       "</div>"
      ],
      "text/plain": [
       "       q1_len  q2_len  q1_num_word  q2_num_word  word_common  total_words  \\\n",
       "98887      39      40            7            7            1           14   \n",
       "53904      45      65            9           12            7           21   \n",
       "72182      43      54           11           13            4           23   \n",
       "96365      48      54           10           11            6           21   \n",
       "58517      36      55            5            8            4           13   \n",
       "\n",
       "       word_share   cwc_min   cwc_max   csc_min  ...  2990  2991  2992  2993  \\\n",
       "98887        0.07  0.249995  0.199997  0.000000  ...     0     0     0     0   \n",
       "53904        0.33  0.833324  0.624996  0.000008  ...     0     0     0     0   \n",
       "72182        0.17  0.666648  0.399995  0.000017  ...     0     0     0     0   \n",
       "96365        0.29  0.249995  0.199997  0.000031  ...     0     0     0     0   \n",
       "58517        0.31  0.749985  0.599992  0.000006  ...     0     0     0     0   \n",
       "\n",
       "       2994  2995  2996  2997  2998  2999  \n",
       "98887     0     0     0     0     0     0  \n",
       "53904     0     0     0     0     0     0  \n",
       "72182     0     0     0     0     0     0  \n",
       "96365     0     0     0     0     0     0  \n",
       "58517     0     0     0     0     0     0  \n",
       "\n",
       "[5 rows x 6022 columns]"
      ]
     },
     "execution_count": 73,
     "metadata": {},
     "output_type": "execute_result"
    }
   ],
   "source": [
    "x_train.head()"
   ]
  },
  {
   "cell_type": "code",
   "execution_count": 74,
   "id": "90036e83",
   "metadata": {},
   "outputs": [
    {
     "data": {
      "text/html": [
       "<style>#sk-container-id-1 {color: black;background-color: white;}#sk-container-id-1 pre{padding: 0;}#sk-container-id-1 div.sk-toggleable {background-color: white;}#sk-container-id-1 label.sk-toggleable__label {cursor: pointer;display: block;width: 100%;margin-bottom: 0;padding: 0.3em;box-sizing: border-box;text-align: center;}#sk-container-id-1 label.sk-toggleable__label-arrow:before {content: \"▸\";float: left;margin-right: 0.25em;color: #696969;}#sk-container-id-1 label.sk-toggleable__label-arrow:hover:before {color: black;}#sk-container-id-1 div.sk-estimator:hover label.sk-toggleable__label-arrow:before {color: black;}#sk-container-id-1 div.sk-toggleable__content {max-height: 0;max-width: 0;overflow: hidden;text-align: left;background-color: #f0f8ff;}#sk-container-id-1 div.sk-toggleable__content pre {margin: 0.2em;color: black;border-radius: 0.25em;background-color: #f0f8ff;}#sk-container-id-1 input.sk-toggleable__control:checked~div.sk-toggleable__content {max-height: 200px;max-width: 100%;overflow: auto;}#sk-container-id-1 input.sk-toggleable__control:checked~label.sk-toggleable__label-arrow:before {content: \"▾\";}#sk-container-id-1 div.sk-estimator input.sk-toggleable__control:checked~label.sk-toggleable__label {background-color: #d4ebff;}#sk-container-id-1 div.sk-label input.sk-toggleable__control:checked~label.sk-toggleable__label {background-color: #d4ebff;}#sk-container-id-1 input.sk-hidden--visually {border: 0;clip: rect(1px 1px 1px 1px);clip: rect(1px, 1px, 1px, 1px);height: 1px;margin: -1px;overflow: hidden;padding: 0;position: absolute;width: 1px;}#sk-container-id-1 div.sk-estimator {font-family: monospace;background-color: #f0f8ff;border: 1px dotted black;border-radius: 0.25em;box-sizing: border-box;margin-bottom: 0.5em;}#sk-container-id-1 div.sk-estimator:hover {background-color: #d4ebff;}#sk-container-id-1 div.sk-parallel-item::after {content: \"\";width: 100%;border-bottom: 1px solid gray;flex-grow: 1;}#sk-container-id-1 div.sk-label:hover label.sk-toggleable__label {background-color: #d4ebff;}#sk-container-id-1 div.sk-serial::before {content: \"\";position: absolute;border-left: 1px solid gray;box-sizing: border-box;top: 0;bottom: 0;left: 50%;z-index: 0;}#sk-container-id-1 div.sk-serial {display: flex;flex-direction: column;align-items: center;background-color: white;padding-right: 0.2em;padding-left: 0.2em;position: relative;}#sk-container-id-1 div.sk-item {position: relative;z-index: 1;}#sk-container-id-1 div.sk-parallel {display: flex;align-items: stretch;justify-content: center;background-color: white;position: relative;}#sk-container-id-1 div.sk-item::before, #sk-container-id-1 div.sk-parallel-item::before {content: \"\";position: absolute;border-left: 1px solid gray;box-sizing: border-box;top: 0;bottom: 0;left: 50%;z-index: -1;}#sk-container-id-1 div.sk-parallel-item {display: flex;flex-direction: column;z-index: 1;position: relative;background-color: white;}#sk-container-id-1 div.sk-parallel-item:first-child::after {align-self: flex-end;width: 50%;}#sk-container-id-1 div.sk-parallel-item:last-child::after {align-self: flex-start;width: 50%;}#sk-container-id-1 div.sk-parallel-item:only-child::after {width: 0;}#sk-container-id-1 div.sk-dashed-wrapped {border: 1px dashed gray;margin: 0 0.4em 0.5em 0.4em;box-sizing: border-box;padding-bottom: 0.4em;background-color: white;}#sk-container-id-1 div.sk-label label {font-family: monospace;font-weight: bold;display: inline-block;line-height: 1.2em;}#sk-container-id-1 div.sk-label-container {text-align: center;}#sk-container-id-1 div.sk-container {/* jupyter's `normalize.less` sets `[hidden] { display: none; }` but bootstrap.min.css set `[hidden] { display: none !important; }` so we also need the `!important` here to be able to override the default hidden behavior on the sphinx rendered scikit-learn.org. See: https://github.com/scikit-learn/scikit-learn/issues/21755 */display: inline-block !important;position: relative;}#sk-container-id-1 div.sk-text-repr-fallback {display: none;}</style><div id=\"sk-container-id-1\" class=\"sk-top-container\"><div class=\"sk-text-repr-fallback\"><pre>RandomForestClassifier()</pre><b>In a Jupyter environment, please rerun this cell to show the HTML representation or trust the notebook. <br />On GitHub, the HTML representation is unable to render, please try loading this page with nbviewer.org.</b></div><div class=\"sk-container\" hidden><div class=\"sk-item\"><div class=\"sk-estimator sk-toggleable\"><input class=\"sk-toggleable__control sk-hidden--visually\" id=\"sk-estimator-id-1\" type=\"checkbox\" checked><label for=\"sk-estimator-id-1\" class=\"sk-toggleable__label sk-toggleable__label-arrow\">RandomForestClassifier</label><div class=\"sk-toggleable__content\"><pre>RandomForestClassifier()</pre></div></div></div></div></div>"
      ],
      "text/plain": [
       "RandomForestClassifier()"
      ]
     },
     "execution_count": 74,
     "metadata": {},
     "output_type": "execute_result"
    }
   ],
   "source": [
    "rf.fit(x_train,y_train)"
   ]
  },
  {
   "cell_type": "code",
   "execution_count": 75,
   "id": "5589639c",
   "metadata": {},
   "outputs": [
    {
     "name": "stdout",
     "output_type": "stream",
     "text": [
      "<class 'pandas.core.frame.DataFrame'>\n",
      "Int64Index: 24000 entries, 98887 to 92684\n",
      "Columns: 6022 entries, q1_len to 2999\n",
      "dtypes: float64(12), int64(6010)\n",
      "memory usage: 1.1 GB\n"
     ]
    }
   ],
   "source": [
    "x_train.info()"
   ]
  },
  {
   "cell_type": "code",
   "execution_count": 76,
   "id": "14e3673b",
   "metadata": {},
   "outputs": [],
   "source": [
    "x_test.columns = x_test.columns.astype(str)"
   ]
  },
  {
   "cell_type": "code",
   "execution_count": 77,
   "id": "48a7611d",
   "metadata": {},
   "outputs": [],
   "source": [
    "y_pred = rf.predict(x_test)"
   ]
  },
  {
   "cell_type": "code",
   "execution_count": 78,
   "id": "794c1867",
   "metadata": {},
   "outputs": [],
   "source": [
    "from sklearn.metrics import accuracy_scoreaccu"
   ]
  },
  {
   "cell_type": "code",
   "execution_count": 79,
   "id": "37c7cc91",
   "metadata": {},
   "outputs": [
    {
     "data": {
      "text/plain": [
       "0.7805"
      ]
     },
     "execution_count": 79,
     "metadata": {},
     "output_type": "execute_result"
    }
   ],
   "source": [
    "accuracy_score(y_test,y_pred)"
   ]
  },
  {
   "cell_type": "code",
   "execution_count": 80,
   "id": "17c64dc0",
   "metadata": {},
   "outputs": [],
   "source": [
    "# Ensure y_train is 1D\n",
    "if y_train.ndim != 1:\n",
    "    y_train = y_train.ravel()"
   ]
  },
  {
   "cell_type": "code",
   "execution_count": 81,
   "id": "2e5a6b2d",
   "metadata": {},
   "outputs": [],
   "source": [
    "from sklearn.tree import DecisionTreeClassifier\n",
    "\n",
    "de = DecisionTreeClassifier()"
   ]
  },
  {
   "cell_type": "code",
   "execution_count": 82,
   "id": "53a32ce0",
   "metadata": {},
   "outputs": [
    {
     "data": {
      "text/html": [
       "<style>#sk-container-id-2 {color: black;background-color: white;}#sk-container-id-2 pre{padding: 0;}#sk-container-id-2 div.sk-toggleable {background-color: white;}#sk-container-id-2 label.sk-toggleable__label {cursor: pointer;display: block;width: 100%;margin-bottom: 0;padding: 0.3em;box-sizing: border-box;text-align: center;}#sk-container-id-2 label.sk-toggleable__label-arrow:before {content: \"▸\";float: left;margin-right: 0.25em;color: #696969;}#sk-container-id-2 label.sk-toggleable__label-arrow:hover:before {color: black;}#sk-container-id-2 div.sk-estimator:hover label.sk-toggleable__label-arrow:before {color: black;}#sk-container-id-2 div.sk-toggleable__content {max-height: 0;max-width: 0;overflow: hidden;text-align: left;background-color: #f0f8ff;}#sk-container-id-2 div.sk-toggleable__content pre {margin: 0.2em;color: black;border-radius: 0.25em;background-color: #f0f8ff;}#sk-container-id-2 input.sk-toggleable__control:checked~div.sk-toggleable__content {max-height: 200px;max-width: 100%;overflow: auto;}#sk-container-id-2 input.sk-toggleable__control:checked~label.sk-toggleable__label-arrow:before {content: \"▾\";}#sk-container-id-2 div.sk-estimator input.sk-toggleable__control:checked~label.sk-toggleable__label {background-color: #d4ebff;}#sk-container-id-2 div.sk-label input.sk-toggleable__control:checked~label.sk-toggleable__label {background-color: #d4ebff;}#sk-container-id-2 input.sk-hidden--visually {border: 0;clip: rect(1px 1px 1px 1px);clip: rect(1px, 1px, 1px, 1px);height: 1px;margin: -1px;overflow: hidden;padding: 0;position: absolute;width: 1px;}#sk-container-id-2 div.sk-estimator {font-family: monospace;background-color: #f0f8ff;border: 1px dotted black;border-radius: 0.25em;box-sizing: border-box;margin-bottom: 0.5em;}#sk-container-id-2 div.sk-estimator:hover {background-color: #d4ebff;}#sk-container-id-2 div.sk-parallel-item::after {content: \"\";width: 100%;border-bottom: 1px solid gray;flex-grow: 1;}#sk-container-id-2 div.sk-label:hover label.sk-toggleable__label {background-color: #d4ebff;}#sk-container-id-2 div.sk-serial::before {content: \"\";position: absolute;border-left: 1px solid gray;box-sizing: border-box;top: 0;bottom: 0;left: 50%;z-index: 0;}#sk-container-id-2 div.sk-serial {display: flex;flex-direction: column;align-items: center;background-color: white;padding-right: 0.2em;padding-left: 0.2em;position: relative;}#sk-container-id-2 div.sk-item {position: relative;z-index: 1;}#sk-container-id-2 div.sk-parallel {display: flex;align-items: stretch;justify-content: center;background-color: white;position: relative;}#sk-container-id-2 div.sk-item::before, #sk-container-id-2 div.sk-parallel-item::before {content: \"\";position: absolute;border-left: 1px solid gray;box-sizing: border-box;top: 0;bottom: 0;left: 50%;z-index: -1;}#sk-container-id-2 div.sk-parallel-item {display: flex;flex-direction: column;z-index: 1;position: relative;background-color: white;}#sk-container-id-2 div.sk-parallel-item:first-child::after {align-self: flex-end;width: 50%;}#sk-container-id-2 div.sk-parallel-item:last-child::after {align-self: flex-start;width: 50%;}#sk-container-id-2 div.sk-parallel-item:only-child::after {width: 0;}#sk-container-id-2 div.sk-dashed-wrapped {border: 1px dashed gray;margin: 0 0.4em 0.5em 0.4em;box-sizing: border-box;padding-bottom: 0.4em;background-color: white;}#sk-container-id-2 div.sk-label label {font-family: monospace;font-weight: bold;display: inline-block;line-height: 1.2em;}#sk-container-id-2 div.sk-label-container {text-align: center;}#sk-container-id-2 div.sk-container {/* jupyter's `normalize.less` sets `[hidden] { display: none; }` but bootstrap.min.css set `[hidden] { display: none !important; }` so we also need the `!important` here to be able to override the default hidden behavior on the sphinx rendered scikit-learn.org. See: https://github.com/scikit-learn/scikit-learn/issues/21755 */display: inline-block !important;position: relative;}#sk-container-id-2 div.sk-text-repr-fallback {display: none;}</style><div id=\"sk-container-id-2\" class=\"sk-top-container\"><div class=\"sk-text-repr-fallback\"><pre>DecisionTreeClassifier()</pre><b>In a Jupyter environment, please rerun this cell to show the HTML representation or trust the notebook. <br />On GitHub, the HTML representation is unable to render, please try loading this page with nbviewer.org.</b></div><div class=\"sk-container\" hidden><div class=\"sk-item\"><div class=\"sk-estimator sk-toggleable\"><input class=\"sk-toggleable__control sk-hidden--visually\" id=\"sk-estimator-id-2\" type=\"checkbox\" checked><label for=\"sk-estimator-id-2\" class=\"sk-toggleable__label sk-toggleable__label-arrow\">DecisionTreeClassifier</label><div class=\"sk-toggleable__content\"><pre>DecisionTreeClassifier()</pre></div></div></div></div></div>"
      ],
      "text/plain": [
       "DecisionTreeClassifier()"
      ]
     },
     "execution_count": 82,
     "metadata": {},
     "output_type": "execute_result"
    }
   ],
   "source": [
    "de.fit(x_train,y_train)"
   ]
  },
  {
   "cell_type": "code",
   "execution_count": 83,
   "id": "4463ed9d",
   "metadata": {},
   "outputs": [],
   "source": [
    "y_pred_de = de.predict(x_test)"
   ]
  },
  {
   "cell_type": "code",
   "execution_count": 84,
   "id": "5af8a98f",
   "metadata": {},
   "outputs": [
    {
     "data": {
      "text/plain": [
       "0.7301666666666666"
      ]
     },
     "execution_count": 84,
     "metadata": {},
     "output_type": "execute_result"
    }
   ],
   "source": [
    "accuracy_score(y_test,y_pred_de)"
   ]
  },
  {
   "cell_type": "code",
   "execution_count": 85,
   "id": "b73a0747",
   "metadata": {},
   "outputs": [
    {
     "data": {
      "text/html": [
       "<style>#sk-container-id-3 {color: black;background-color: white;}#sk-container-id-3 pre{padding: 0;}#sk-container-id-3 div.sk-toggleable {background-color: white;}#sk-container-id-3 label.sk-toggleable__label {cursor: pointer;display: block;width: 100%;margin-bottom: 0;padding: 0.3em;box-sizing: border-box;text-align: center;}#sk-container-id-3 label.sk-toggleable__label-arrow:before {content: \"▸\";float: left;margin-right: 0.25em;color: #696969;}#sk-container-id-3 label.sk-toggleable__label-arrow:hover:before {color: black;}#sk-container-id-3 div.sk-estimator:hover label.sk-toggleable__label-arrow:before {color: black;}#sk-container-id-3 div.sk-toggleable__content {max-height: 0;max-width: 0;overflow: hidden;text-align: left;background-color: #f0f8ff;}#sk-container-id-3 div.sk-toggleable__content pre {margin: 0.2em;color: black;border-radius: 0.25em;background-color: #f0f8ff;}#sk-container-id-3 input.sk-toggleable__control:checked~div.sk-toggleable__content {max-height: 200px;max-width: 100%;overflow: auto;}#sk-container-id-3 input.sk-toggleable__control:checked~label.sk-toggleable__label-arrow:before {content: \"▾\";}#sk-container-id-3 div.sk-estimator input.sk-toggleable__control:checked~label.sk-toggleable__label {background-color: #d4ebff;}#sk-container-id-3 div.sk-label input.sk-toggleable__control:checked~label.sk-toggleable__label {background-color: #d4ebff;}#sk-container-id-3 input.sk-hidden--visually {border: 0;clip: rect(1px 1px 1px 1px);clip: rect(1px, 1px, 1px, 1px);height: 1px;margin: -1px;overflow: hidden;padding: 0;position: absolute;width: 1px;}#sk-container-id-3 div.sk-estimator {font-family: monospace;background-color: #f0f8ff;border: 1px dotted black;border-radius: 0.25em;box-sizing: border-box;margin-bottom: 0.5em;}#sk-container-id-3 div.sk-estimator:hover {background-color: #d4ebff;}#sk-container-id-3 div.sk-parallel-item::after {content: \"\";width: 100%;border-bottom: 1px solid gray;flex-grow: 1;}#sk-container-id-3 div.sk-label:hover label.sk-toggleable__label {background-color: #d4ebff;}#sk-container-id-3 div.sk-serial::before {content: \"\";position: absolute;border-left: 1px solid gray;box-sizing: border-box;top: 0;bottom: 0;left: 50%;z-index: 0;}#sk-container-id-3 div.sk-serial {display: flex;flex-direction: column;align-items: center;background-color: white;padding-right: 0.2em;padding-left: 0.2em;position: relative;}#sk-container-id-3 div.sk-item {position: relative;z-index: 1;}#sk-container-id-3 div.sk-parallel {display: flex;align-items: stretch;justify-content: center;background-color: white;position: relative;}#sk-container-id-3 div.sk-item::before, #sk-container-id-3 div.sk-parallel-item::before {content: \"\";position: absolute;border-left: 1px solid gray;box-sizing: border-box;top: 0;bottom: 0;left: 50%;z-index: -1;}#sk-container-id-3 div.sk-parallel-item {display: flex;flex-direction: column;z-index: 1;position: relative;background-color: white;}#sk-container-id-3 div.sk-parallel-item:first-child::after {align-self: flex-end;width: 50%;}#sk-container-id-3 div.sk-parallel-item:last-child::after {align-self: flex-start;width: 50%;}#sk-container-id-3 div.sk-parallel-item:only-child::after {width: 0;}#sk-container-id-3 div.sk-dashed-wrapped {border: 1px dashed gray;margin: 0 0.4em 0.5em 0.4em;box-sizing: border-box;padding-bottom: 0.4em;background-color: white;}#sk-container-id-3 div.sk-label label {font-family: monospace;font-weight: bold;display: inline-block;line-height: 1.2em;}#sk-container-id-3 div.sk-label-container {text-align: center;}#sk-container-id-3 div.sk-container {/* jupyter's `normalize.less` sets `[hidden] { display: none; }` but bootstrap.min.css set `[hidden] { display: none !important; }` so we also need the `!important` here to be able to override the default hidden behavior on the sphinx rendered scikit-learn.org. See: https://github.com/scikit-learn/scikit-learn/issues/21755 */display: inline-block !important;position: relative;}#sk-container-id-3 div.sk-text-repr-fallback {display: none;}</style><div id=\"sk-container-id-3\" class=\"sk-top-container\"><div class=\"sk-text-repr-fallback\"><pre>LogisticRegression()</pre><b>In a Jupyter environment, please rerun this cell to show the HTML representation or trust the notebook. <br />On GitHub, the HTML representation is unable to render, please try loading this page with nbviewer.org.</b></div><div class=\"sk-container\" hidden><div class=\"sk-item\"><div class=\"sk-estimator sk-toggleable\"><input class=\"sk-toggleable__control sk-hidden--visually\" id=\"sk-estimator-id-3\" type=\"checkbox\" checked><label for=\"sk-estimator-id-3\" class=\"sk-toggleable__label sk-toggleable__label-arrow\">LogisticRegression</label><div class=\"sk-toggleable__content\"><pre>LogisticRegression()</pre></div></div></div></div></div>"
      ],
      "text/plain": [
       "LogisticRegression()"
      ]
     },
     "execution_count": 85,
     "metadata": {},
     "output_type": "execute_result"
    }
   ],
   "source": [
    "from sklearn.linear_model import LogisticRegression\n",
    "\n",
    "lr = LogisticRegression()\n",
    "\n",
    "lr.fit(x_train,y_train)"
   ]
  },
  {
   "cell_type": "code",
   "execution_count": 86,
   "id": "897fd5c1",
   "metadata": {},
   "outputs": [],
   "source": [
    "y_pred_lr = lr.predict(x_test)"
   ]
  },
  {
   "cell_type": "code",
   "execution_count": 87,
   "id": "ed4e02f6",
   "metadata": {},
   "outputs": [
    {
     "data": {
      "text/plain": [
       "0.7246666666666667"
      ]
     },
     "execution_count": 87,
     "metadata": {},
     "output_type": "execute_result"
    }
   ],
   "source": [
    "accuracy_score(y_test,y_pred_lr)"
   ]
  },
  {
   "cell_type": "code",
   "execution_count": 88,
   "id": "b122c9ff",
   "metadata": {},
   "outputs": [
    {
     "data": {
      "text/html": [
       "<style>#sk-container-id-4 {color: black;background-color: white;}#sk-container-id-4 pre{padding: 0;}#sk-container-id-4 div.sk-toggleable {background-color: white;}#sk-container-id-4 label.sk-toggleable__label {cursor: pointer;display: block;width: 100%;margin-bottom: 0;padding: 0.3em;box-sizing: border-box;text-align: center;}#sk-container-id-4 label.sk-toggleable__label-arrow:before {content: \"▸\";float: left;margin-right: 0.25em;color: #696969;}#sk-container-id-4 label.sk-toggleable__label-arrow:hover:before {color: black;}#sk-container-id-4 div.sk-estimator:hover label.sk-toggleable__label-arrow:before {color: black;}#sk-container-id-4 div.sk-toggleable__content {max-height: 0;max-width: 0;overflow: hidden;text-align: left;background-color: #f0f8ff;}#sk-container-id-4 div.sk-toggleable__content pre {margin: 0.2em;color: black;border-radius: 0.25em;background-color: #f0f8ff;}#sk-container-id-4 input.sk-toggleable__control:checked~div.sk-toggleable__content {max-height: 200px;max-width: 100%;overflow: auto;}#sk-container-id-4 input.sk-toggleable__control:checked~label.sk-toggleable__label-arrow:before {content: \"▾\";}#sk-container-id-4 div.sk-estimator input.sk-toggleable__control:checked~label.sk-toggleable__label {background-color: #d4ebff;}#sk-container-id-4 div.sk-label input.sk-toggleable__control:checked~label.sk-toggleable__label {background-color: #d4ebff;}#sk-container-id-4 input.sk-hidden--visually {border: 0;clip: rect(1px 1px 1px 1px);clip: rect(1px, 1px, 1px, 1px);height: 1px;margin: -1px;overflow: hidden;padding: 0;position: absolute;width: 1px;}#sk-container-id-4 div.sk-estimator {font-family: monospace;background-color: #f0f8ff;border: 1px dotted black;border-radius: 0.25em;box-sizing: border-box;margin-bottom: 0.5em;}#sk-container-id-4 div.sk-estimator:hover {background-color: #d4ebff;}#sk-container-id-4 div.sk-parallel-item::after {content: \"\";width: 100%;border-bottom: 1px solid gray;flex-grow: 1;}#sk-container-id-4 div.sk-label:hover label.sk-toggleable__label {background-color: #d4ebff;}#sk-container-id-4 div.sk-serial::before {content: \"\";position: absolute;border-left: 1px solid gray;box-sizing: border-box;top: 0;bottom: 0;left: 50%;z-index: 0;}#sk-container-id-4 div.sk-serial {display: flex;flex-direction: column;align-items: center;background-color: white;padding-right: 0.2em;padding-left: 0.2em;position: relative;}#sk-container-id-4 div.sk-item {position: relative;z-index: 1;}#sk-container-id-4 div.sk-parallel {display: flex;align-items: stretch;justify-content: center;background-color: white;position: relative;}#sk-container-id-4 div.sk-item::before, #sk-container-id-4 div.sk-parallel-item::before {content: \"\";position: absolute;border-left: 1px solid gray;box-sizing: border-box;top: 0;bottom: 0;left: 50%;z-index: -1;}#sk-container-id-4 div.sk-parallel-item {display: flex;flex-direction: column;z-index: 1;position: relative;background-color: white;}#sk-container-id-4 div.sk-parallel-item:first-child::after {align-self: flex-end;width: 50%;}#sk-container-id-4 div.sk-parallel-item:last-child::after {align-self: flex-start;width: 50%;}#sk-container-id-4 div.sk-parallel-item:only-child::after {width: 0;}#sk-container-id-4 div.sk-dashed-wrapped {border: 1px dashed gray;margin: 0 0.4em 0.5em 0.4em;box-sizing: border-box;padding-bottom: 0.4em;background-color: white;}#sk-container-id-4 div.sk-label label {font-family: monospace;font-weight: bold;display: inline-block;line-height: 1.2em;}#sk-container-id-4 div.sk-label-container {text-align: center;}#sk-container-id-4 div.sk-container {/* jupyter's `normalize.less` sets `[hidden] { display: none; }` but bootstrap.min.css set `[hidden] { display: none !important; }` so we also need the `!important` here to be able to override the default hidden behavior on the sphinx rendered scikit-learn.org. See: https://github.com/scikit-learn/scikit-learn/issues/21755 */display: inline-block !important;position: relative;}#sk-container-id-4 div.sk-text-repr-fallback {display: none;}</style><div id=\"sk-container-id-4\" class=\"sk-top-container\"><div class=\"sk-text-repr-fallback\"><pre>AdaBoostClassifier()</pre><b>In a Jupyter environment, please rerun this cell to show the HTML representation or trust the notebook. <br />On GitHub, the HTML representation is unable to render, please try loading this page with nbviewer.org.</b></div><div class=\"sk-container\" hidden><div class=\"sk-item\"><div class=\"sk-estimator sk-toggleable\"><input class=\"sk-toggleable__control sk-hidden--visually\" id=\"sk-estimator-id-4\" type=\"checkbox\" checked><label for=\"sk-estimator-id-4\" class=\"sk-toggleable__label sk-toggleable__label-arrow\">AdaBoostClassifier</label><div class=\"sk-toggleable__content\"><pre>AdaBoostClassifier()</pre></div></div></div></div></div>"
      ],
      "text/plain": [
       "AdaBoostClassifier()"
      ]
     },
     "execution_count": 88,
     "metadata": {},
     "output_type": "execute_result"
    }
   ],
   "source": [
    "from sklearn.ensemble import AdaBoostClassifier\n",
    "\n",
    "ab = AdaBoostClassifier()\n",
    "\n",
    "ab.fit(x_train,y_train)"
   ]
  },
  {
   "cell_type": "code",
   "execution_count": 89,
   "id": "745a3050",
   "metadata": {},
   "outputs": [],
   "source": [
    "y_pred_ab = ab.predict(x_test)"
   ]
  },
  {
   "cell_type": "code",
   "execution_count": 90,
   "id": "5a4d7bcf",
   "metadata": {},
   "outputs": [
    {
     "data": {
      "text/plain": [
       "0.7398333333333333"
      ]
     },
     "execution_count": 90,
     "metadata": {},
     "output_type": "execute_result"
    }
   ],
   "source": [
    "accuracy_score(y_test,y_pred_ab)"
   ]
  },
  {
   "cell_type": "code",
   "execution_count": 91,
   "id": "6e252c14",
   "metadata": {},
   "outputs": [],
   "source": [
    "from sklearn.metrics import confusion_matrix"
   ]
  },
  {
   "cell_type": "code",
   "execution_count": 92,
   "id": "677a9526",
   "metadata": {},
   "outputs": [
    {
     "data": {
      "text/plain": [
       "array([[3183,  577],\n",
       "       [ 740, 1500]], dtype=int64)"
      ]
     },
     "execution_count": 92,
     "metadata": {},
     "output_type": "execute_result"
    }
   ],
   "source": [
    "confusion_matrix(y_test,y_pred)"
   ]
  },
  {
   "cell_type": "code",
   "execution_count": 93,
   "id": "08368508",
   "metadata": {},
   "outputs": [
    {
     "data": {
      "text/plain": [
       "array([[2965,  795],\n",
       "       [ 824, 1416]], dtype=int64)"
      ]
     },
     "execution_count": 93,
     "metadata": {},
     "output_type": "execute_result"
    }
   ],
   "source": [
    "confusion_matrix(y_test,y_pred_de)"
   ]
  },
  {
   "cell_type": "code",
   "execution_count": 94,
   "id": "4842591e",
   "metadata": {},
   "outputs": [
    {
     "data": {
      "text/plain": [
       "array([[3086,  674],\n",
       "       [ 887, 1353]], dtype=int64)"
      ]
     },
     "execution_count": 94,
     "metadata": {},
     "output_type": "execute_result"
    }
   ],
   "source": [
    "confusion_matrix(y_test,y_pred_ab)"
   ]
  },
  {
   "cell_type": "code",
   "execution_count": 104,
   "id": "09695822",
   "metadata": {},
   "outputs": [],
   "source": [
    "def test_common_words(q1,q2):\n",
    "    w1 = set(map(lambda word: word.lower().strip(), q1.split(\" \")))\n",
    "    w2 = set(map(lambda word: word.lower().strip(), q2.split(\" \")))    \n",
    "    return len(w1 & w2)"
   ]
  },
  {
   "cell_type": "code",
   "execution_count": 105,
   "id": "2ad89187",
   "metadata": {},
   "outputs": [],
   "source": [
    "def test_total_words(q1,q2):\n",
    "    w1 = set(map(lambda word: word.lower().strip(), q1.split(\" \")))\n",
    "    w2 = set(map(lambda word: word.lower().strip(), q2.split(\" \")))    \n",
    "    return (len(w1) + len(w2))"
   ]
  },
  {
   "cell_type": "code",
   "execution_count": 106,
   "id": "bd28f73b",
   "metadata": {},
   "outputs": [],
   "source": [
    "def test_fetch_token_features(q1,q2):\n",
    "    \n",
    "    SAFE_DIV = 0.0001 \n",
    "\n",
    "    STOP_WORDS = stopwords.words(\"english\")\n",
    "    \n",
    "    token_features = [0.0]*8\n",
    "    \n",
    "    # Converting the Sentence into Tokens: \n",
    "    q1_tokens = q1.split()\n",
    "    q2_tokens = q2.split()\n",
    "    \n",
    "    if len(q1_tokens) == 0 or len(q2_tokens) == 0:\n",
    "        return token_features\n",
    "\n",
    "    # Get the non-stopwords in Questions\n",
    "    q1_words = set([word for word in q1_tokens if word not in STOP_WORDS])\n",
    "    q2_words = set([word for word in q2_tokens if word not in STOP_WORDS])\n",
    "    \n",
    "    #Get the stopwords in Questions\n",
    "    q1_stops = set([word for word in q1_tokens if word in STOP_WORDS])\n",
    "    q2_stops = set([word for word in q2_tokens if word in STOP_WORDS])\n",
    "    \n",
    "    # Get the common non-stopwords from Question pair\n",
    "    common_word_count = len(q1_words.intersection(q2_words))\n",
    "    \n",
    "    # Get the common stopwords from Question pair\n",
    "    common_stop_count = len(q1_stops.intersection(q2_stops))\n",
    "    \n",
    "    # Get the common Tokens from Question pair\n",
    "    common_token_count = len(set(q1_tokens).intersection(set(q2_tokens)))\n",
    "    \n",
    "    \n",
    "    token_features[0] = common_word_count / (min(len(q1_words), len(q2_words)) + SAFE_DIV)\n",
    "    token_features[1] = common_word_count / (max(len(q1_words), len(q2_words)) + SAFE_DIV)\n",
    "    token_features[2] = common_stop_count / (min(len(q1_stops), len(q2_stops)) + SAFE_DIV)\n",
    "    token_features[3] = common_stop_count / (max(len(q1_stops), len(q2_stops)) + SAFE_DIV)\n",
    "    token_features[4] = common_token_count / (min(len(q1_tokens), len(q2_tokens)) + SAFE_DIV)\n",
    "    token_features[5] = common_token_count / (max(len(q1_tokens), len(q2_tokens)) + SAFE_DIV)\n",
    "     \n",
    "    # Last word of both question is same or not\n",
    "    token_features[6] = int(q1_tokens[-1] == q2_tokens[-1])\n",
    "    \n",
    "    # First word of both question is same or not\n",
    "    token_features[7] = int(q1_tokens[0] == q2_tokens[0])\n",
    "    \n",
    "    return token_features"
   ]
  },
  {
   "cell_type": "code",
   "execution_count": 107,
   "id": "2bcec480",
   "metadata": {},
   "outputs": [],
   "source": [
    "def test_fetch_length_features(q1,q2):\n",
    "    \n",
    "    length_features = [0.0]*3\n",
    "    \n",
    "    # Converting the Sentence into Tokens: \n",
    "    q1_tokens = q1.split()\n",
    "    q2_tokens = q2.split()\n",
    "    \n",
    "    if len(q1_tokens) == 0 or len(q2_tokens) == 0:\n",
    "        return length_features\n",
    "    \n",
    "    # Absolute length features\n",
    "    length_features[0] = abs(len(q1_tokens) - len(q2_tokens))\n",
    "    \n",
    "    #Average Token Length of both Questions\n",
    "    length_features[1] = (len(q1_tokens) + len(q2_tokens))/2\n",
    "    \n",
    "    strs = list(distance.lcsubstrings(q1, q2))\n",
    "    length_features[2] = len(strs[0]) / (min(len(q1), len(q2)) + 1)\n",
    "    \n",
    "    return length_features"
   ]
  },
  {
   "cell_type": "code",
   "execution_count": 108,
   "id": "831d8d7f",
   "metadata": {},
   "outputs": [],
   "source": [
    "def test_fetch_fuzzy_features(q1,q2):\n",
    "    \n",
    "    fuzzy_features = [0.0]*4\n",
    "    \n",
    "    # fuzz_ratio\n",
    "    fuzzy_features[0] = fuzz.QRatio(q1, q2)\n",
    "\n",
    "    # fuzz_partial_ratio\n",
    "    fuzzy_features[1] = fuzz.partial_ratio(q1, q2)\n",
    "\n",
    "    # token_sort_ratio\n",
    "    fuzzy_features[2] = fuzz.token_sort_ratio(q1, q2)\n",
    "\n",
    "    # token_set_ratio\n",
    "    fuzzy_features[3] = fuzz.token_set_ratio(q1, q2)\n",
    "\n",
    "    return fuzzy_features"
   ]
  },
  {
   "cell_type": "code",
   "execution_count": 109,
   "id": "b1745bf7",
   "metadata": {},
   "outputs": [],
   "source": [
    "def query_point_creator(q1,q2):\n",
    "    \n",
    "    input_query = []\n",
    "    \n",
    "    q1 = preprocess(q1)\n",
    "    q2 = preprocess(q2)\n",
    "    \n",
    "    input_query.append(len(q1))\n",
    "    input_query.append(len(q2))\n",
    "    \n",
    "    input_query.append(len(q1.split(\" \")))\n",
    "    input_query.append(len(q2.split(\" \")))\n",
    "    \n",
    "    input_query.append(test_common_words(q1,q2))\n",
    "    input_query.append(test_total_words(q1,q2))\n",
    "    input_query.append(round(test_common_words(q1,q2)/test_total_words(q1,q2),2))\n",
    "    \n",
    "    token_features = test_fetch_token_features(q1,q2)\n",
    "    input_query.extend(token_features)\n",
    "    \n",
    "    length_features = test_fetch_length_features(q1,q2)\n",
    "    input_query.extend(length_features)\n",
    "    \n",
    "    fuzzy_feature = test_fetch_fuzzy_features(q1,q2)\n",
    "    input_query.extend(fuzzy_feature)\n",
    "    \n",
    "    q1_bow = cv.transform([q1]).toarray() \n",
    "    \n",
    "    q2_bow = cv.transform([q2]).toarray()\n",
    "    \n",
    "    return np.hstack((np.array(input_query).reshape(1,22),q1_bow,q2_bow))"
   ]
  },
  {
   "cell_type": "code",
   "execution_count": 129,
   "id": "9c0eef89",
   "metadata": {},
   "outputs": [],
   "source": [
    "q1 = 'Where is the capital of india?'\n",
    "q2 = 'What is the capital of Pakistan?'"
   ]
  },
  {
   "cell_type": "code",
   "execution_count": 130,
   "id": "e85b141b",
   "metadata": {},
   "outputs": [
    {
     "data": {
      "text/plain": [
       "array([[29., 31.,  6., ...,  0.,  0.,  0.]])"
      ]
     },
     "execution_count": 130,
     "metadata": {},
     "output_type": "execute_result"
    }
   ],
   "source": [
    "query_point_creator(q1,q2)"
   ]
  },
  {
   "cell_type": "code",
   "execution_count": 131,
   "id": "622df312",
   "metadata": {},
   "outputs": [
    {
     "data": {
      "text/plain": [
       "array([0], dtype=int64)"
      ]
     },
     "execution_count": 131,
     "metadata": {},
     "output_type": "execute_result"
    }
   ],
   "source": [
    "rf.predict(query_point_creator(q1,q2))"
   ]
  },
  {
   "cell_type": "code",
   "execution_count": 132,
   "id": "80b226f3",
   "metadata": {},
   "outputs": [],
   "source": [
    "import pickle\n",
    "\n",
    "pickle.dump(rf,open('model_rf.pkl','wb'))\n",
    "pickle.dump(cv,open('cv.pkl','wb'))"
   ]
  },
  {
   "cell_type": "code",
   "execution_count": null,
   "id": "d44cadc7",
   "metadata": {},
   "outputs": [],
   "source": []
  },
  {
   "cell_type": "code",
   "execution_count": null,
   "id": "c2f61913",
   "metadata": {},
   "outputs": [],
   "source": []
  }
 ],
 "metadata": {
  "kernelspec": {
   "display_name": "Python 3 (ipykernel)",
   "language": "python",
   "name": "python3"
  },
  "language_info": {
   "codemirror_mode": {
    "name": "ipython",
    "version": 3
   },
   "file_extension": ".py",
   "mimetype": "text/x-python",
   "name": "python",
   "nbconvert_exporter": "python",
   "pygments_lexer": "ipython3",
   "version": "3.12.7"
  }
 },
 "nbformat": 4,
 "nbformat_minor": 5
}
